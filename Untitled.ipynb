{
 "cells": [
  {
   "cell_type": "code",
   "execution_count": 287,
   "id": "179fce08",
   "metadata": {},
   "outputs": [
    {
     "name": "stdout",
     "output_type": "stream",
     "text": [
      "  Sales Date  Units Sold\n",
      "0 2023-01-03       120.0\n",
      "1 2023-01-05       100.0\n",
      "2 2023-01-08        80.0\n",
      "3 2023-01-10       150.0\n",
      "4 2023-01-12        90.0\n",
      "5 2023-01-18       100.0\n",
      "6 2023-01-20       200.0\n",
      "7 2023-01-25       180.0\n",
      "  Product Category  Revenue\n",
      "0                A   6250.0\n",
      "1                B   6500.0\n"
     ]
    },
    {
     "data": {
      "text/html": [
       "<div>\n",
       "<style scoped>\n",
       "    .dataframe tbody tr th:only-of-type {\n",
       "        vertical-align: middle;\n",
       "    }\n",
       "\n",
       "    .dataframe tbody tr th {\n",
       "        vertical-align: top;\n",
       "    }\n",
       "\n",
       "    .dataframe thead th {\n",
       "        text-align: right;\n",
       "    }\n",
       "</style>\n",
       "<table border=\"1\" class=\"dataframe\">\n",
       "  <thead>\n",
       "    <tr style=\"text-align: right;\">\n",
       "      <th></th>\n",
       "      <th>Date</th>\n",
       "      <th>Product</th>\n",
       "      <th>Units Sold</th>\n",
       "      <th>Revenue</th>\n",
       "      <th>2ndRev</th>\n",
       "    </tr>\n",
       "  </thead>\n",
       "  <tbody>\n",
       "    <tr>\n",
       "      <th>0</th>\n",
       "      <td>1</td>\n",
       "      <td>A</td>\n",
       "      <td>32</td>\n",
       "      <td>4234</td>\n",
       "      <td>135488</td>\n",
       "    </tr>\n",
       "    <tr>\n",
       "      <th>1</th>\n",
       "      <td>2</td>\n",
       "      <td>B</td>\n",
       "      <td>123</td>\n",
       "      <td>2442</td>\n",
       "      <td>300366</td>\n",
       "    </tr>\n",
       "    <tr>\n",
       "      <th>2</th>\n",
       "      <td>3</td>\n",
       "      <td>C</td>\n",
       "      <td>234</td>\n",
       "      <td>424</td>\n",
       "      <td>99216</td>\n",
       "    </tr>\n",
       "    <tr>\n",
       "      <th>3</th>\n",
       "      <td>4</td>\n",
       "      <td>D</td>\n",
       "      <td>322</td>\n",
       "      <td>21421</td>\n",
       "      <td>6897562</td>\n",
       "    </tr>\n",
       "    <tr>\n",
       "      <th>4</th>\n",
       "      <td>5</td>\n",
       "      <td>E</td>\n",
       "      <td>2421</td>\n",
       "      <td>344</td>\n",
       "      <td>832824</td>\n",
       "    </tr>\n",
       "  </tbody>\n",
       "</table>\n",
       "</div>"
      ],
      "text/plain": [
       "   Date Product  Units Sold  Revenue   2ndRev\n",
       "0     1       A          32     4234   135488\n",
       "1     2       B         123     2442   300366\n",
       "2     3       C         234      424    99216\n",
       "3     4       D         322    21421  6897562\n",
       "4     5       E        2421      344   832824"
      ]
     },
     "execution_count": 287,
     "metadata": {},
     "output_type": "execute_result"
    }
   ],
   "source": [
    "import pandas as pd\n",
    "\n",
    "# Sample data for sales records\n",
    "data = {\n",
    "    'Region': ['North', 'North', 'South', 'South', 'East', 'East', 'West', 'West'],\n",
    "    'Product Category': ['A', 'B', 'A', 'B', 'A', 'B', 'A', 'B'],\n",
    "    'Sales Date': ['2023-01-05', '2023-01-10', '2023-01-08', '2023-01-12',\n",
    "                   '2023-01-03', '2023-01-18', '2023-01-20', '2023-01-25'],\n",
    "    'Units Sold': [100, 150, 80, 90, 120, 100, 200, 180],\n",
    "    'Revenue': [5000, 7500, 4000, 4500, 6000, 5000, 10000, 9000]\n",
    "}\n",
    "\n",
    "# Creating a Pandas DataFrame\n",
    "sales_df = pd.DataFrame(data)\n",
    "sales_df[\"Revenue\"]=sales_df[\"Revenue\"].astype(int)\n",
    "sales_df[\"Units Sold\"]=sales_df[\"Units Sold\"].astype(int)\n",
    "\n",
    "# Converting 'Sales Date' to datetime format\n",
    "sales_df['Sales Date'] = pd.to_datetime(sales_df['Sales Date'])\n",
    "sales_df2=pd.DataFrame(sales_df.groupby(\"Product Category\")[\"Revenue\"].mean()).reset_index()\n",
    "sales_df3=pd.DataFrame(sales_df.groupby(\"Sales Date\")[\"Units Sold\"].mean()).reset_index()\n",
    "rev2=df[\"Units Sold\"]*df[\"Revenue\"]\n",
    "print(sales_df3)\n",
    "print(sales_df2)\n",
    "top3=sales_df.nlargest(3,\"Revenue\").reset_index()\n",
    "top3\n",
    "df[\"2ndRev\"]=rev2\n",
    "df\n"
   ]
  },
  {
   "cell_type": "code",
   "execution_count": 296,
   "id": "72590fba",
   "metadata": {},
   "outputs": [
    {
     "name": "stdout",
     "output_type": "stream",
     "text": [
      "qdwq || 1 || ajeeb\n"
     ]
    }
   ],
   "source": [
    "from abc import ABC,abstractmethod\n",
    "class aaap(ABC):\n",
    "    def __init__(self,id,name):\n",
    "        self.name=name\n",
    "        self.id=id\n",
    "    @abstractmethod\n",
    "    def getInfo():\n",
    "        pass\n",
    "class apkabachaa(aaap):\n",
    "    def __init__(self,id,name,ghar):\n",
    "        super().__init__(id,name)\n",
    "        self.ghar=ghar\n",
    "    def getInfo(self):\n",
    "        print(f\"{self.name} || {self.id} || {self.ghar}\")\n",
    "\n",
    "apk=apkabachaa(1,\"qdwq\",\"ajeeb\")\n",
    "apk.getInfo()"
   ]
  },
  {
   "cell_type": "code",
   "execution_count": 326,
   "id": "abd7f1d9",
   "metadata": {},
   "outputs": [
    {
     "name": "stdout",
     "output_type": "stream",
     "text": [
      "         Date Product  Quantity  Price Region  Total Sales         0\n",
      "0  2023-01-01       A        15   20.0  North        300.0  1.407407\n",
      "1  2023-01-03       A        12   18.0  North        216.0  1.407407\n",
      "2  2023-01-02       B         8   15.0  South        120.0  1.500000\n",
      "3  2023-01-05       B        10   12.0  North        120.0  1.500000\n",
      "4  2023-01-04       C         5   25.0   West        125.0  5.000000\n"
     ]
    }
   ],
   "source": [
    "import pandas as pd\n",
    "import matplotlib.pyplot as plt\n",
    "# Sample dataset as a dictionary\n",
    "data = {\n",
    "    'Date': ['2023-01-01', '2023-01-02', '2023-01-03', '2023-01-04', '2023-01-05'],\n",
    "    'Product': ['A', 'B', 'A', 'C', 'B'],\n",
    "    'Quantity': [15, 8, 12, 5, 10],\n",
    "    'Price': [20.0, 15.0, 18.0, 25.0, 12.0],\n",
    "    'Region': ['North', 'South', 'North', 'West', 'North']\n",
    "}\n",
    "\n",
    "# Create a DataFrame\n",
    "sales_data = pd.DataFrame(data)\n",
    "sales_data[\"Total Sales\"] = sales_data[\"Quantity\"]*sales_data[\"Price\"]\n",
    "d1=sales_data[sales_data[\"Region\"]==\"North\"]\n",
    "\n",
    "\n",
    "# plt.bar(d1[\"Product\"],d1[\"Total Sales\"])\n",
    "# plt.show()\n",
    "avg=sales_data.groupby(\"Product\")[\"Price\"].sum()/sales_data.groupby(\"Product\")[\"Quantity\"].sum()\n",
    "sales_data\n",
    "avg=avg.reset_index()\n",
    "sales_data=pd.merge(sales_data,avg,on=\"Product\")\n",
    "sales_data=sales_data.rename(columns={\"0\":\"Average Sales\"})\n",
    "print(sales_data)"
   ]
  },
  {
   "cell_type": "code",
   "execution_count": 367,
   "id": "a78ce71c",
   "metadata": {},
   "outputs": [
    {
     "data": {
      "text/plain": [
       "Int64Index([ 0,  1,  2,  3,  4,  5,  6,  7,  8,  9, 10, 11, 12, 13, 14, 15, 16,\n",
       "            17, 18, 19, 20, 21, 22, 23, 24],\n",
       "           dtype='int64')"
      ]
     },
     "execution_count": 367,
     "metadata": {},
     "output_type": "execute_result"
    }
   ],
   "source": [
    "import pandas as pd\n",
    "import numpy as np\n",
    "from datetime import datetime, timedelta\n",
    "import matplotlib.pyplot as plt\n",
    "# Generate data for a 30-day experiment\n",
    "start_date = datetime(2023, 1, 1)\n",
    "num_days = 30\n",
    "\n",
    "time_values = [start_date + timedelta(days=i) for i in range(num_days)]\n",
    "temperature_values = [28.5, 29.0, 29.5, 30.0, 30.5, 31.0, 31.5, 32.0, 32.5, 33.0, 33.5, 34.0, 34.5, 35.0, 35.5, 36.0, 36.5, 37.0, 37.5, 38.0, 38.5, 39.0, 39.5, 40.0, 40.5, 41.0, 41.5, 42.0, 42.5, 43.0]\n",
    "pressure_values = [28.5, 29.0, 29.5, 30.0, 30.5, 8, 31.5, 32.0, 32.5, 33.0, 33.5, 34.0, 34.5, 35.0, 35.5, 36.0, 36.5, 37.0, 67.5, 38.0, 38.5, 39.0, 39.5, 40.0, 40.5, 41.0, 41.5, 42.0, 42.5, 43.0]\n",
    "concentration_values = [28.5, 29.0, 29.5, 30.0, 30.5, 31.0, 31.5, 32.0, 5, 33.0, 33.5, 34.0, 34.5, 35.0, 35.5, 36.0, 36.5, 37.0, 37.5, 38.0, 38.5, 39.0, 39.5, 40.0, 40.5, 41.0, 41.5, 42.0, 42.5, 43.0]\n",
    "\n",
    "# Create a DataFrame\n",
    "experiment_data = pd.DataFrame({\n",
    "    'Time': time_values,\n",
    "    'Temperature': temperature_values,\n",
    "    'Pressure': pressure_values,\n",
    "    'Concentration': concentration_values,\n",
    "})\n",
    "\n",
    "# Calculate 'Volume' as the product of 'Temperature' and 'Pressure'\n",
    "experiment_data['Volume'] = experiment_data['Temperature'] * experiment_data['Pressure']\n",
    "\n",
    "\n",
    "# Display the DataFrame\n",
    "experiment_data=experiment_data[experiment_data[\"Concentration\"]>30].reset_index(drop=True)\n",
    "# plt.plot(experiment_data[\"Temperature\"],experiment_data[\"Time\"],color=\"red\",marker=\"*\")\n",
    "# plt.plot(experiment_data[\"Pressure\"],experiment_data[\"Time\"],color=\"blue\",marker=\"o\")\n",
    "# plt.legend()\n",
    "# plt.show()\n",
    "numericalcols=experiment_data.drop(columns=[\"Time\"])\n",
    "corr=pd.DataFrame(np.corrcoef(numericalcols))\n",
    "max_indices = np.unravel_index(np.argmax(corr), corr.shape)\n",
    "y\n",
    "# print(corr)\n",
    "# print(experiment_data)"
   ]
  },
  {
   "cell_type": "code",
   "execution_count": null,
   "id": "4e1c9947",
   "metadata": {},
   "outputs": [],
   "source": []
  }
 ],
 "metadata": {
  "kernelspec": {
   "display_name": "Python 3 (ipykernel)",
   "language": "python",
   "name": "python3"
  },
  "language_info": {
   "codemirror_mode": {
    "name": "ipython",
    "version": 3
   },
   "file_extension": ".py",
   "mimetype": "text/x-python",
   "name": "python",
   "nbconvert_exporter": "python",
   "pygments_lexer": "ipython3",
   "version": "3.11.4"
  }
 },
 "nbformat": 4,
 "nbformat_minor": 5
}
