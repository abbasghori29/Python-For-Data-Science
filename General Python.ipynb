{
 "cells": [
  {
   "cell_type": "markdown",
   "id": "624b1f1f",
   "metadata": {},
   "source": [
    "# String Format Method"
   ]
  },
  {
   "cell_type": "markdown",
   "id": "151df385",
   "metadata": {},
   "source": [
    "# A function That Takes Unlimited Parameters And Sum Them All"
   ]
  },
  {
   "cell_type": "code",
   "execution_count": 38,
   "id": "8c4c0de3",
   "metadata": {},
   "outputs": [
    {
     "name": "stdout",
     "output_type": "stream",
     "text": [
      "15\n"
     ]
    }
   ],
   "source": [
    "def sum_all(*args):\n",
    "    result = 0\n",
    "    for num in args:\n",
    "        result += num\n",
    "    return result\n",
    "\n",
    "# Example usage:\n",
    "total = sum_all(1, 2, 3, 4, 5)\n",
    "print(total)  # Output: 15\n"
   ]
  },
  {
   "cell_type": "markdown",
   "id": "870868cb",
   "metadata": {},
   "source": [
    "# ZIP AND ENUMERTE"
   ]
  },
  {
   "cell_type": "code",
   "execution_count": 34,
   "id": "6de1b5fa",
   "metadata": {},
   "outputs": [
    {
     "name": "stdout",
     "output_type": "stream",
     "text": [
      "[(0, 'apple'), (1, 'kela'), (2, 'Grape'), (3, 'Anaar')]\n",
      "[('apple', 1), ('kela', 2), ('Grape', 3), ('Anaar', 4)]\n"
     ]
    }
   ],
   "source": [
    "l1 = [\"apple\", \"kela\", \"Grape\", \"Anaar\"]\n",
    "l2 = [1, 2, 3, 4]\n",
    "\n",
    "print(list(enumerate(l1)))\n",
    "print(list(zip(l1, l2)))\n"
   ]
  },
  {
   "cell_type": "markdown",
   "id": "f73a5d0a",
   "metadata": {},
   "source": [
    "# String and list methods"
   ]
  },
  {
   "cell_type": "code",
   "execution_count": 31,
   "id": "3c702d26",
   "metadata": {},
   "outputs": [
    {
     "name": "stdout",
     "output_type": "stream",
     "text": [
      "String Methods:\n",
      "Original String:    Hello, World!   \n",
      "Capitalized String:    hello, world!   \n",
      "Uppercase String:    HELLO, WORLD!   \n",
      "Lowercase String:    hello, world!   \n",
      "Stripped String: Hello, World!\n",
      "Split String: ['Hello,', 'World!']\n",
      "Replaced String:    Hi, World!   \n",
      "Index of 'World': 10\n",
      "Starts with 'Hello': False\n",
      "Ends with '!': False\n",
      "\n",
      "List Methods:\n",
      "Original List: [99, 6, 5, 4, 2, 1]\n",
      "Appended 6: [99, 6, 5, 4, 2, 1]\n",
      "Extended List: [1, 2, 3, 4, 3, 5, 6, 7, 8]\n",
      "Inserted 99 at index 2: [99, 6, 5, 4, 2, 1]\n",
      "Removed 3: [99, 6, 5, 4, 2, 1]\n",
      "Popped Element at index 4: 3\n",
      "Index of 4: 3\n",
      "Count of 3: 0\n",
      "Sorted List: [99, 6, 5, 4, 2, 1]\n",
      "Reversed List: [99, 6, 5, 4, 2, 1]\n",
      "Copy of List: [99, 6, 5, 4, 2, 1]\n"
     ]
    }
   ],
   "source": [
    "# String methods\n",
    "sample_string = \"   Hello, World!   \"\n",
    "capitalized_string = sample_string.capitalize()\n",
    "uppercase_string = sample_string.upper()\n",
    "lowercase_string = sample_string.lower()\n",
    "stripped_string = sample_string.strip()\n",
    "split_string = sample_string.split()\n",
    "replaced_string = sample_string.replace(\"Hello\", \"Hi\")\n",
    "index_of_world = sample_string.find(\"World\")\n",
    "starts_with_hello = sample_string.startswith(\"Hello\")\n",
    "ends_with_exclamation = sample_string.endswith(\"!\")\n",
    "\n",
    "# List methods\n",
    "sample_list = [1, 2, 3, 4, 3, 5]\n",
    "sample_list.append(6)\n",
    "extended_list = sample_list + [7, 8]\n",
    "sample_list.insert(2, 99)\n",
    "sample_list.remove(3)\n",
    "popped_element = sample_list.pop(4)\n",
    "index_of_4 = sample_list.index(4)\n",
    "count_of_3 = sample_list.count(3)\n",
    "sample_list.sort()\n",
    "sample_list.reverse()\n",
    "copy_of_list = sample_list.copy()\n",
    "\n",
    "# Displaying results\n",
    "print(\"String Methods:\")\n",
    "print(\"Original String:\", sample_string)\n",
    "print(\"Capitalized String:\", capitalized_string)\n",
    "print(\"Uppercase String:\", uppercase_string)\n",
    "print(\"Lowercase String:\", lowercase_string)\n",
    "print(\"Stripped String:\", stripped_string)\n",
    "print(\"Split String:\", split_string)\n",
    "print(\"Replaced String:\", replaced_string)\n",
    "print(\"Index of 'World':\", index_of_world)\n",
    "print(\"Starts with 'Hello':\", starts_with_hello)\n",
    "print(\"Ends with '!':\", ends_with_exclamation)\n",
    "\n",
    "print(\"\\nList Methods:\")\n",
    "print(\"Original List:\", sample_list)\n",
    "print(\"Appended 6:\", sample_list)\n",
    "print(\"Extended List:\", extended_list)\n",
    "print(\"Inserted 99 at index 2:\", sample_list)\n",
    "print(\"Removed 3:\", sample_list)\n",
    "print(\"Popped Element at index 4:\", popped_element)\n",
    "print(\"Index of 4:\", index_of_4)\n",
    "print(\"Count of 3:\", count_of_3)\n",
    "print(\"Sorted List:\", sample_list)\n",
    "print(\"Reversed List:\", sample_list)\n",
    "print(\"Copy of List:\", copy_of_list)\n"
   ]
  },
  {
   "cell_type": "markdown",
   "id": "eb707789",
   "metadata": {},
   "source": [
    "# Append And Removal In Dictionary"
   ]
  },
  {
   "cell_type": "code",
   "execution_count": 8,
   "id": "ac55c160",
   "metadata": {},
   "outputs": [
    {
     "name": "stdout",
     "output_type": "stream",
     "text": [
      "{'Name': ['Abbas'], 'Address': ['Karachi'], 'Age': [21]}\n"
     ]
    }
   ],
   "source": [
    "my_dict = {\"Name\": [], \"Address\": [], \"Age\": []}\n",
    "\n",
    "my_dict[\"Name\"].append(\"Abbas\")\n",
    "my_dict[\"Address\"].append(\"Karachi\")\n",
    "my_dict[\"Age\"].append(21)\n",
    "my_dict[\"Name\"].append(\"Basit\")\n",
    "my_dict[\"Address\"].append(\"Karachi\")\n",
    "my_dict[\"Age\"].append(20)\n",
    "\n",
    "# Remove \"Basit\" from the dictionary\n",
    "index_to_remove = my_dict[\"Name\"].index(\"Basit\")\n",
    "my_dict[\"Name\"].pop(index_to_remove)\n",
    "my_dict[\"Address\"].pop(index_to_remove)\n",
    "my_dict[\"Age\"].pop(index_to_remove)\n",
    "\n",
    "print(my_dict)\n"
   ]
  },
  {
   "cell_type": "markdown",
   "id": "b88c197d",
   "metadata": {},
   "source": [
    "# File Handling"
   ]
  },
  {
   "cell_type": "code",
   "execution_count": 18,
   "id": "9cea530b",
   "metadata": {},
   "outputs": [
    {
     "name": "stdout",
     "output_type": "stream",
     "text": [
      "4026\n"
     ]
    },
    {
     "data": {
      "text/plain": [
       "'Hello My Roll Number is 22K-4026 And I Am In BS AI'"
      ]
     },
     "execution_count": 18,
     "metadata": {},
     "output_type": "execute_result"
    }
   ],
   "source": [
    "sentence=\"Hello My Roll Number is 22K-4026\"\n",
    "with open (r\"sent.txt\",\"w\") as fileObj:\n",
    "    fileObj.write(sentence)\n",
    "with open (r\"sent.txt\") as fileObj:\n",
    "    data=fileObj.read()\n",
    "\n",
    "# Extract Id No As integer\n",
    "idno = int(data[28:32])\n",
    "print(idno)\n",
    "with open (r\"sent.txt\",\"a\") as fileObj:\n",
    "    fileObj.write(\" And I Am In BS AI\")\n",
    "with open (r\"sent.txt\") as fileObj:\n",
    "    d=fileObj.read()\n",
    "d\n"
   ]
  },
  {
   "cell_type": "markdown",
   "id": "f2dcdd7b",
   "metadata": {},
   "source": [
    "# File Handling Using Json File"
   ]
  },
  {
   "cell_type": "code",
   "execution_count": 28,
   "id": "ec2c705e",
   "metadata": {},
   "outputs": [
    {
     "data": {
      "text/plain": [
       "{'Name': ['Abbas', 'Basil'], 'Age': [21, 1]}"
      ]
     },
     "execution_count": 28,
     "metadata": {},
     "output_type": "execute_result"
    }
   ],
   "source": [
    "import json\n",
    "dic={\"Name\":[\"Abbas\",\"Basil\"],\"Age\":[21,1]}\n",
    "with open (\"data.json\",\"w\") as jsonfile:\n",
    "    json.dump(dic,jsonfile)\n",
    "with open (\"data.json\",\"r\") as jsonfile:\n",
    "    data=json.load(jsonfile)\n",
    "data"
   ]
  },
  {
   "cell_type": "markdown",
   "id": "24823e44",
   "metadata": {},
   "source": [
    "# Sorting On The Basis Of Specific Index Of 2D List"
   ]
  },
  {
   "cell_type": "code",
   "execution_count": 1,
   "id": "c16fc5a8",
   "metadata": {},
   "outputs": [
    {
     "data": {
      "text/plain": [
       "[[1, 5, 6], [23, 34, 85], [77, 88, 3]]"
      ]
     },
     "execution_count": 1,
     "metadata": {},
     "output_type": "execute_result"
    }
   ],
   "source": [
    "mylist=[[1,5,6],[77,88,3],[23,34,85]]\n",
    "mylist.sort(key=lambda x: x[1])\n",
    "mylist"
   ]
  },
  {
   "cell_type": "markdown",
   "id": "db1f5be2",
   "metadata": {},
   "source": [
    "# Exception Handling"
   ]
  },
  {
   "cell_type": "code",
   "execution_count": 5,
   "id": "4a30fc71",
   "metadata": {},
   "outputs": [
    {
     "name": "stdout",
     "output_type": "stream",
     "text": [
      "division by zero\n"
     ]
    }
   ],
   "source": [
    "a=int(2)\n",
    "b=int(0)\n",
    "try:\n",
    "    print(a/b)\n",
    "except Exception as e:\n",
    "    print(e)\n",
    "    "
   ]
  },
  {
   "cell_type": "markdown",
   "id": "844c3fe2",
   "metadata": {},
   "source": [
    "# Array Conactenation In Python Array"
   ]
  },
  {
   "cell_type": "code",
   "execution_count": 36,
   "id": "e3c8803f",
   "metadata": {},
   "outputs": [
    {
     "name": "stdout",
     "output_type": "stream",
     "text": [
      "array('i', [1, 2, 3, 4, 5, 6, 7, 8])\n"
     ]
    }
   ],
   "source": [
    "import array as arr\n",
    "frst=arr.array('i',[1,2,3,4])\n",
    "sec=arr.array('i',[5,6,7,8])\n",
    "result = frst + sec\n",
    "\n",
    "print(result)\n"
   ]
  },
  {
   "cell_type": "markdown",
   "id": "d230532f",
   "metadata": {},
   "source": [
    "# Dictionary Methods"
   ]
  },
  {
   "cell_type": "code",
   "execution_count": 30,
   "id": "dd65bae6",
   "metadata": {},
   "outputs": [
    {
     "name": "stdout",
     "output_type": "stream",
     "text": [
      "Method 1 - Clear the dictionary: {}\n",
      "Method 2 - Copy the dictionary: {'name': 'Alice', 'age': 30, 'city': 'New York'}\n",
      "Method 3 - Get value with default: Alice\n",
      "Method 4 - Check key presence: 'city' is present\n",
      "Method 5 - Get items: dict_items([('name', 'Alice'), ('age', 30), ('city', 'New York')])\n",
      "Method 6 - Get keys: dict_keys(['name', 'age', 'city'])\n",
      "Method 7 - Get values: dict_values(['Alice', 30, 'New York'])\n",
      "Method 8 - Pop value by key: Alice\n",
      "Method 9 - Pop last item: ('city', 'New York')\n",
      "Method 10 - Setdefault: Unknown\n",
      "Method 11 - Update dictionary: {'age': 30, 'country': 'USA', 'status': 'Active'}\n"
     ]
    }
   ],
   "source": [
    "# Creating a sample dictionary\n",
    "my_dict = {'name': 'Alice', 'age': 30, 'city': 'New York'}\n",
    "\n",
    "# Method 1: Clear the dictionary\n",
    "my_dict.clear()\n",
    "print(\"Method 1 - Clear the dictionary:\", my_dict)\n",
    "\n",
    "# Method 2: Create a shallow copy of the dictionary\n",
    "my_dict = {'name': 'Alice', 'age': 30, 'city': 'New York'}\n",
    "copy_dict = my_dict.copy()\n",
    "print(\"Method 2 - Copy the dictionary:\", copy_dict)\n",
    "\n",
    "# Method 3: Get the value for a key with a default value\n",
    "value = my_dict.get('name', 'Not found')\n",
    "print(\"Method 3 - Get value with default:\", value)\n",
    "\n",
    "# Method 4: Check if a key is present in the dictionary\n",
    "if 'city' in my_dict:\n",
    "    print(\"Method 4 - Check key presence: 'city' is present\")\n",
    "\n",
    "# Method 5: Get a view of all key-value pairs\n",
    "items = my_dict.items()\n",
    "print(\"Method 5 - Get items:\", items)\n",
    "\n",
    "# Method 6: Get a view of all keys\n",
    "keys = my_dict.keys()\n",
    "print(\"Method 6 - Get keys:\", keys)\n",
    "\n",
    "# Method 7: Get a view of all values\n",
    "values = my_dict.values()\n",
    "print(\"Method 7 - Get values:\", values)\n",
    "\n",
    "# Method 8: Remove and return a value by key\n",
    "value = my_dict.pop('name', 'Unknown')\n",
    "print(\"Method 8 - Pop value by key:\", value)\n",
    "\n",
    "# Method 9: Remove and return the last key-value pair\n",
    "item = my_dict.popitem()\n",
    "print(\"Method 9 - Pop last item:\", item)\n",
    "\n",
    "# Method 10: Set a default value for a key if not present\n",
    "value = my_dict.setdefault('country', 'Unknown')\n",
    "print(\"Method 10 - Setdefault:\", value)\n",
    "\n",
    "# Method 11: Update the dictionary with another dictionary or iterable\n",
    "my_dict.update({'country': 'USA', 'status': 'Active'})\n",
    "print(\"Method 11 - Update dictionary:\", my_dict)\n"
   ]
  },
  {
   "cell_type": "markdown",
   "id": "1462b182",
   "metadata": {},
   "source": [
    "# To Traverse Through Dictionary"
   ]
  },
  {
   "cell_type": "code",
   "execution_count": 44,
   "id": "81331bf7",
   "metadata": {},
   "outputs": [
    {
     "name": "stdout",
     "output_type": "stream",
     "text": [
      "Key: name, Value: Alice\n",
      "Key: age, Value: 30\n",
      "Key: city, Value: New York\n"
     ]
    }
   ],
   "source": [
    "my_dict = {'name': 'Alice', 'age': 30, 'city': 'New York'}\n",
    "\n",
    "for key, value in my_dict.items():\n",
    "    print(f\"Key: {key}, Value: {value}\")\n"
   ]
  },
  {
   "cell_type": "markdown",
   "id": "c7246d9a",
   "metadata": {},
   "source": [
    "# Sets And Their Operations"
   ]
  },
  {
   "cell_type": "code",
   "execution_count": 3,
   "id": "45d23546",
   "metadata": {},
   "outputs": [
    {
     "name": "stdout",
     "output_type": "stream",
     "text": [
      "set1: set()\n",
      "set2: {4, 5, 6}\n",
      "Union of set1 and set2: {4, 5, 6}\n",
      "Intersection of set1 and set2: set()\n",
      "Difference of set1 and set2: set()\n",
      "Symmetric Difference of set1 and set2: {4, 5, 6}\n",
      "Is set1 a subset of set2? True\n",
      "Is set1 a superset of set2? False\n",
      "set3 (Set Comprehension): {2, 4, 6, 8, 10}\n",
      "Copy of set1 (set4): set()\n",
      "Length of set1: 0\n",
      "Is 3 present in set2? False\n",
      "List from set2: [4, 5, 6]\n",
      "Tuple from set1: ()\n",
      "Frozen Set 1: frozenset()\n",
      "Frozen Set 2: frozenset({4, 5, 6})\n"
     ]
    }
   ],
   "source": [
    "# Create two sets\n",
    "set1 = {1, 2, 3, 4, 5}\n",
    "set2 = {3, 4, 5, 6, 7}\n",
    "\n",
    "# Basic Set Operations\n",
    "set1.add(6)\n",
    "set2.remove(7)\n",
    "set1.discard(8)  # No error because 8 is not in set1\n",
    "popped_element = set2.pop()\n",
    "set1.clear()\n",
    "\n",
    "# Set Operations\n",
    "union_set = set1.union(set2)\n",
    "intersection_set = set1.intersection(set2)\n",
    "difference_set = set1.difference(set2)\n",
    "symmetric_difference_set = set1.symmetric_difference(set2)\n",
    "is_subset = set1.issubset(set2)\n",
    "is_superset = set1.issuperset(set2)\n",
    "\n",
    "# Set Comprehension\n",
    "set3 = {x * 2 for x in range(1, 6)}\n",
    "\n",
    "# Copying Sets\n",
    "set4 = set1.copy()\n",
    "\n",
    "# Set Size and Membership\n",
    "len_set1 = len(set1)\n",
    "is_element_present = 3 in set2\n",
    "\n",
    "# Conversion to Other Data Types\n",
    "list_from_set2 = list(set2)\n",
    "tuple_from_set1 = tuple(set1)\n",
    "\n",
    "# Frozen Sets\n",
    "frozen_set1 = frozenset(set1)\n",
    "frozen_set2 = frozenset(set2)\n",
    "\n",
    "# Print the results\n",
    "print(\"set1:\", set1)\n",
    "print(\"set2:\", set2)\n",
    "print(\"Union of set1 and set2:\", union_set)\n",
    "print(\"Intersection of set1 and set2:\", intersection_set)\n",
    "print(\"Difference of set1 and set2:\", difference_set)\n",
    "print(\"Symmetric Difference of set1 and set2:\", symmetric_difference_set)\n",
    "print(\"Is set1 a subset of set2?\", is_subset)\n",
    "print(\"Is set1 a superset of set2?\", is_superset)\n",
    "print(\"set3 (Set Comprehension):\", set3)\n",
    "print(\"Copy of set1 (set4):\", set4)\n",
    "print(\"Length of set1:\", len_set1)\n",
    "print(\"Is 3 present in set2?\", is_element_present)\n",
    "print(\"List from set2:\", list_from_set2)\n",
    "print(\"Tuple from set1:\", tuple_from_set1)\n",
    "print(\"Frozen Set 1:\", frozen_set1)\n",
    "print(\"Frozen Set 2:\", frozen_set2)\n"
   ]
  },
  {
   "cell_type": "markdown",
   "id": "06689860",
   "metadata": {},
   "source": [
    "# Tuples Method (Tuples Are Immutale They Can't Be Changed Like List)"
   ]
  },
  {
   "cell_type": "code",
   "execution_count": 3,
   "id": "1e012da9",
   "metadata": {},
   "outputs": [
    {
     "name": "stdout",
     "output_type": "stream",
     "text": [
      "Method 1 - count(2): 3\n",
      "Method 2 - index(2): 1\n",
      "Method 3 - len(my_tuple): 6\n",
      "Method 4 - Concatenation (+): (1, 2, 3, 4, 5, 6)\n",
      "Method 5 - Repetition (*): (1, 2, 2, 3, 4, 2, 1, 2, 2, 3, 4, 2, 1, 2, 2, 3, 4, 2)\n",
      "Method 6 - 3 in my_tuple: True\n",
      "Adding elements (+): (1, 2, 2, 3, 4, 2, 5, 6)\n",
      "Removing elements (3): (1, 2, 2, 4, 2, 5, 6)\n"
     ]
    }
   ],
   "source": [
    "# Define a tuple\n",
    "my_tuple = (1, 2, 2, 3, 4, 2)\n",
    "\n",
    "# Method 1: count(x)\n",
    "count = my_tuple.count(2)\n",
    "print(\"Method 1 - count(2):\", count)\n",
    "\n",
    "# Method 2: index(x)\n",
    "index = my_tuple.index(2)\n",
    "print(\"Method 2 - index(2):\", index)\n",
    "\n",
    "# Method 3: len(tuple)\n",
    "length = len(my_tuple)\n",
    "print(\"Method 3 - len(my_tuple):\", length)\n",
    "\n",
    "# Concatenation (+)\n",
    "tuple1 = (1, 2, 3)\n",
    "tuple2 = (4, 5, 6)\n",
    "result_tuple = tuple1 + tuple2\n",
    "print(\"Method 4 - Concatenation (+):\", result_tuple)\n",
    "\n",
    "# Repetition (*)\n",
    "repeated_tuple = my_tuple * 3\n",
    "print(\"Method 5 - Repetition (*):\", repeated_tuple)\n",
    "\n",
    "# Check for an element (in)\n",
    "is_present = 3 in my_tuple\n",
    "print(\"Method 6 - 3 in my_tuple:\", is_present)\n",
    "\n",
    "# Adding elements\n",
    "my_tuple += (5,6)\n",
    "print(\"Adding elements (+):\", my_tuple)\n",
    "\n",
    "# Removing elements (you can't remove elements from a tuple directly, so we create a new tuple)\n",
    "element_to_remove = 3\n",
    "l=[]\n",
    "for i in (my_tuple):\n",
    "    if(i!=element_to_remove):\n",
    "        l.append(i)\n",
    "my_tuple=tuple(l)\n",
    "print(\"Removing elements (3):\", my_tuple)\n"
   ]
  }
 ],
 "metadata": {
  "kernelspec": {
   "display_name": "Python 3 (ipykernel)",
   "language": "python",
   "name": "python3"
  },
  "language_info": {
   "codemirror_mode": {
    "name": "ipython",
    "version": 3
   },
   "file_extension": ".py",
   "mimetype": "text/x-python",
   "name": "python",
   "nbconvert_exporter": "python",
   "pygments_lexer": "ipython3",
   "version": "3.11.4"
  }
 },
 "nbformat": 4,
 "nbformat_minor": 5
}
