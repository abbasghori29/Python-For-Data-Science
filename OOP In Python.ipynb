{
 "cells": [
  {
   "cell_type": "markdown",
   "id": "a81f8c47",
   "metadata": {},
   "source": [
    "# OOP IN PYTHON"
   ]
  },
  {
   "cell_type": "markdown",
   "id": "32a2978c",
   "metadata": {
    "scrolled": true
   },
   "source": [
    "## Basic Class Structure "
   ]
  },
  {
   "cell_type": "code",
   "execution_count": 28,
   "id": "fbcc589a",
   "metadata": {},
   "outputs": [
    {
     "name": "stdout",
     "output_type": "stream",
     "text": [
      "Name is ZeeeYaaam is Gay\n"
     ]
    }
   ],
   "source": [
    "class Person:\n",
    "    name=\"Zayam\"\n",
    "    def info(self):\n",
    "        print(f\"Name is {self.name} is Gay\")\n",
    "        \n",
    "p1=Person()\n",
    "p1.name=\"ZeeeYaaam\"\n",
    "p1.info()"
   ]
  },
  {
   "cell_type": "markdown",
   "id": "643bcd3a",
   "metadata": {},
   "source": [
    "## Constructors In Python"
   ]
  },
  {
   "cell_type": "code",
   "execution_count": 1,
   "id": "43c6f7b9",
   "metadata": {},
   "outputs": [
    {
     "name": "stdout",
     "output_type": "stream",
     "text": [
      "Zayam is Gay\n"
     ]
    }
   ],
   "source": [
    "class FazoolInsaan:\n",
    "    def __init__(self, name, gender):\n",
    "        self.name = name\n",
    "        self.gender = gender\n",
    "\n",
    "    def printDetails(self):\n",
    "        print(f\"{self.name} is {self.gender}\")\n",
    "\n",
    "f1 = FazoolInsaan(\"Zayam\", \"Gay\")\n",
    "f1.printDetails()\n"
   ]
  },
  {
   "cell_type": "markdown",
   "id": "6d1000f7",
   "metadata": {},
   "source": [
    "# Abstract Class"
   ]
  },
  {
   "cell_type": "code",
   "execution_count": 9,
   "id": "6bd97d0e",
   "metadata": {},
   "outputs": [
    {
     "name": "stdout",
     "output_type": "stream",
     "text": [
      "Book - Title: The Great Gatsby, Publisher: Scribner, Pages: 180\n",
      "DVD - Title: Inception, Publisher: Warner Bros., Length: 148 minutes\n",
      "Article - Title: Python Programming, Publisher: Python.org, Author: Guido van Rossum\n"
     ]
    }
   ],
   "source": [
    "from abc import ABC, abstractmethod\n",
    "\n",
    "class LibraryItem(ABC):\n",
    "    def __init__(self, title, publisher):\n",
    "        self.title = title\n",
    "        self.publisher = publisher\n",
    "\n",
    "    @abstractmethod\n",
    "    def get_info(self):\n",
    "        pass\n",
    "\n",
    "class Book(LibraryItem):\n",
    "    def __init__(self, title, publisher, pages):\n",
    "        super().__init__(title, publisher)\n",
    "        self.pages = pages\n",
    "\n",
    "    def get_info(self):\n",
    "        return f\"Book - Title: {self.title}, Publisher: {self.publisher}, Pages: {self.pages}\"\n",
    "\n",
    "class DVD(LibraryItem):\n",
    "    def __init__(self, title, publisher, length):\n",
    "        super().__init__(title, publisher)\n",
    "        self.length = length\n",
    "\n",
    "    def get_info(self):\n",
    "        return f\"DVD - Title: {self.title}, Publisher: {self.publisher}, Length: {self.length} minutes\"\n",
    "\n",
    "class Article(LibraryItem):\n",
    "    def __init__(self, title, publisher, author):\n",
    "        super().__init__(title, publisher)\n",
    "        self.author = author\n",
    "\n",
    "    def get_info(self):\n",
    "        return f\"Article - Title: {self.title}, Publisher: {self.publisher}, Author: {self.author}\"\n",
    "\n",
    "# Example usage\n",
    "book = Book(\"The Great Gatsby\", \"Scribner\", 180)\n",
    "dvd = DVD(\"Inception\", \"Warner Bros.\", 148)\n",
    "article = Article(\"Python Programming\", \"Python.org\", \"Guido van Rossum\")\n",
    "\n",
    "print(book.get_info())\n",
    "print(dvd.get_info())\n",
    "print(article.get_info())\n"
   ]
  },
  {
   "cell_type": "markdown",
   "id": "49f6186d",
   "metadata": {},
   "source": [
    "# Overriding In Python:"
   ]
  },
  {
   "cell_type": "code",
   "execution_count": 6,
   "id": "a4a5f9fc",
   "metadata": {},
   "outputs": [
    {
     "name": "stdout",
     "output_type": "stream",
     "text": [
      "I Am Cat\n",
      "I Am Dog\n"
     ]
    }
   ],
   "source": [
    "class Animal:\n",
    "    def say(self):\n",
    "        pass\n",
    "class Cat:\n",
    "    def say(self):\n",
    "        print(\"I Am Cat\")\n",
    "class Dog:\n",
    "    def say(self):\n",
    "        print(\"I Am Dog\")\n",
    "c = Cat();\n",
    "c.say()\n",
    "d = Dog();\n",
    "d.say()"
   ]
  },
  {
   "cell_type": "markdown",
   "id": "34093ba4",
   "metadata": {},
   "source": [
    "# Encapsulation"
   ]
  },
  {
   "cell_type": "code",
   "execution_count": 7,
   "id": "37ec2cc6",
   "metadata": {},
   "outputs": [
    {
     "name": "stdout",
     "output_type": "stream",
     "text": [
      "Account balance: 1300\n"
     ]
    }
   ],
   "source": [
    "class BankAccount:\n",
    "    def __init__(self, account_number, balance):\n",
    "        self.account_number = account_number\n",
    "        self.__balance = balance  # Private attribute\n",
    "\n",
    "    def deposit(self, amount):\n",
    "        self.__balance += amount\n",
    "\n",
    "    def withdraw(self, amount):\n",
    "        if amount <= self.__balance:\n",
    "            self.__balance -= amount\n",
    "        else:\n",
    "            print(\"Insufficient funds\")\n",
    "\n",
    "    def get_balance(self):\n",
    "        return self.__balance\n",
    "\n",
    "account = BankAccount(\"123456\", 1000)\n",
    "account.deposit(500)\n",
    "account.withdraw(200)\n",
    "print(\"Account balance:\", account.get_balance())\n"
   ]
  },
  {
   "cell_type": "markdown",
   "id": "f7e740ac",
   "metadata": {},
   "source": [
    "# Diamond Problem"
   ]
  },
  {
   "cell_type": "code",
   "execution_count": 8,
   "id": "d7e7137c",
   "metadata": {},
   "outputs": [
    {
     "name": "stdout",
     "output_type": "stream",
     "text": [
      "B\n"
     ]
    }
   ],
   "source": [
    "class A:\n",
    "    def show(self):\n",
    "        print(\"A\")\n",
    "\n",
    "class B(A):\n",
    "    def show(self):\n",
    "        print(\"B\")\n",
    "\n",
    "class C(A):\n",
    "    def show(self):\n",
    "        print(\"C\")\n",
    "\n",
    "class D(B, C):\n",
    "    pass\n",
    "\n",
    "d = D()\n",
    "d.show()\n",
    "\n",
    "# In this example, the show method of class B is executed because D inherits from B and C, and B comes before C in the MRO.\n",
    "# To avoid the diamond problem and make method resolution more predictable, \n",
    "# you can use super() calls to explicitly specify which method to call from the parent classes\n",
    "# or use different design patterns, such as composition instead of multiple inheritance."
   ]
  },
  {
   "cell_type": "markdown",
   "id": "0fb2d08d",
   "metadata": {},
   "source": [
    "# Abstraction"
   ]
  },
  {
   "cell_type": "code",
   "execution_count": 2,
   "id": "c9da9a4d",
   "metadata": {},
   "outputs": [
    {
     "name": "stdout",
     "output_type": "stream",
     "text": [
      "Circle area: 78.5\n"
     ]
    }
   ],
   "source": [
    "from abc import ABC, abstractmethod\n",
    "\n",
    "class Shape(ABC):\n",
    "    @abstractmethod\n",
    "    def area(self):\n",
    "        pass\n",
    "\n",
    "class Circle(Shape):\n",
    "    def __init__(self, radius):\n",
    "        self.radius = radius\n",
    "\n",
    "    def area(self):\n",
    "        return 3.14 * self.radius ** 2\n",
    "\n",
    "circle = Circle(5)\n",
    "print(\"Circle area:\", circle.area())\n"
   ]
  },
  {
   "cell_type": "markdown",
   "id": "67cdca3d",
   "metadata": {},
   "source": [
    "# Polymorphism"
   ]
  },
  {
   "cell_type": "code",
   "execution_count": 1,
   "id": "2bcfcf0e",
   "metadata": {},
   "outputs": [
    {
     "name": "stdout",
     "output_type": "stream",
     "text": [
      "Woof!\n",
      "Meow!\n"
     ]
    }
   ],
   "source": [
    "class Animal:\n",
    "    def speak(self):\n",
    "        pass\n",
    "\n",
    "class Dog(Animal):\n",
    "    def speak(self):\n",
    "        return \"Woof!\"\n",
    "\n",
    "class Cat(Animal):\n",
    "    def speak(self):\n",
    "        return \"Meow!\"\n",
    "\n",
    "def animal_speak(animal):\n",
    "    return animal.speak()\n",
    "\n",
    "dog = Dog()\n",
    "cat = Cat()\n",
    "print(animal_speak(dog))  # Output: Woof!\n",
    "print(animal_speak(cat))  # Output: Meow!\n"
   ]
  }
 ],
 "metadata": {
  "kernelspec": {
   "display_name": "Python 3 (ipykernel)",
   "language": "python",
   "name": "python3"
  },
  "language_info": {
   "codemirror_mode": {
    "name": "ipython",
    "version": 3
   },
   "file_extension": ".py",
   "mimetype": "text/x-python",
   "name": "python",
   "nbconvert_exporter": "python",
   "pygments_lexer": "ipython3",
   "version": "3.11.4"
  }
 },
 "nbformat": 4,
 "nbformat_minor": 5
}
