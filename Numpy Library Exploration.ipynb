{
 "cells": [
  {
   "cell_type": "markdown",
   "id": "51f212ee",
   "metadata": {},
   "source": [
    "# Single dimensional numpy array"
   ]
  },
  {
   "cell_type": "code",
   "execution_count": 82,
   "id": "2628aac9",
   "metadata": {},
   "outputs": [
    {
     "name": "stdout",
     "output_type": "stream",
     "text": [
      "One dimensional [1 2 3]\n"
     ]
    }
   ],
   "source": [
    "import numpy as np\n",
    "a=np.array([1,2,3])\n",
    "print(\"One dimensional\",a)"
   ]
  },
  {
   "cell_type": "markdown",
   "id": "ba6ca716",
   "metadata": {},
   "source": [
    "# Multi Dimensional Array"
   ]
  },
  {
   "cell_type": "code",
   "execution_count": 2,
   "id": "acfeaa8b",
   "metadata": {},
   "outputs": [
    {
     "name": "stdout",
     "output_type": "stream",
     "text": [
      "two dimensional\n",
      "\n",
      " [[1 2 3]\n",
      " [4 5 6]]\n",
      "\n",
      "\n",
      "three dimensional\n",
      "\n",
      " [[[1 2 3]\n",
      "  [4 5 6]]\n",
      "\n",
      " [[1 2 3]\n",
      "  [4 5 6]]]\n"
     ]
    }
   ],
   "source": [
    "import numpy as np\n",
    "#two-dimensional numpy array\n",
    "a=np.array([[1,2,3],[4,5,6]])\n",
    "print(\"two dimensional\\n\\n\",a)\n",
    "\n",
    "#three-dimensional numpy array\n",
    "a = np.array([[[1, 2, 3], [4, 5, 6]], [[1, 2, 3], [4, 5, 6]]])\n",
    "print(\"\\n\\nthree dimensional\\n\\n\",a)"
   ]
  },
  {
   "cell_type": "markdown",
   "id": "696c9905",
   "metadata": {},
   "source": [
    "# how to check dimensions using ndim\n"
   ]
  },
  {
   "cell_type": "code",
   "execution_count": 3,
   "id": "d1c3963f",
   "metadata": {},
   "outputs": [
    {
     "name": "stdout",
     "output_type": "stream",
     "text": [
      "0\n",
      "1\n",
      "2\n",
      "3\n"
     ]
    }
   ],
   "source": [
    "import numpy as np\n",
    "\n",
    "a = np.array(42)\n",
    "b = np.array([1, 2, 3, 4, 5])\n",
    "c = np.array([[1, 2, 3], [4, 5, 6]])\n",
    "d = np.array([[[1, 2, 3], [4, 5, 6]], [[1, 2, 3], [4, 5, 6]]])\n",
    "\n",
    "print(a.ndim)\n",
    "print(b.ndim)\n",
    "print(c.ndim)\n",
    "print(d.ndim)"
   ]
  },
  {
   "cell_type": "markdown",
   "id": "3655a553",
   "metadata": {},
   "source": [
    "# Converting list to numpy array\n"
   ]
  },
  {
   "cell_type": "code",
   "execution_count": null,
   "id": "c7d5dd9e",
   "metadata": {},
   "outputs": [],
   "source": [
    "import numpy as np\n",
    "l = [12.23, 13.32, 100, 36.32]\n",
    "print(\"Original List:\",l)\n",
    "a = np.array(l)\n",
    "print(\"One-dimensional NumPy array: \",a)"
   ]
  },
  {
   "cell_type": "markdown",
   "id": "cc33f3e2",
   "metadata": {},
   "source": [
    "# how to append values to numpy array"
   ]
  },
  {
   "cell_type": "code",
   "execution_count": 8,
   "id": "576f9b05",
   "metadata": {},
   "outputs": [
    {
     "name": "stdout",
     "output_type": "stream",
     "text": [
      "Original array:\n",
      "[10, 20, 30]\n",
      "After append values to the end of the array:\n",
      "[10 20 30 40 50 60 70 80 90]\n"
     ]
    }
   ],
   "source": [
    "import numpy as np\n",
    "x = [10, 20, 30]\n",
    "print(\"Original array:\")\n",
    "print(x)\n",
    "x = np.append(x, [[40,50,60], [70, 80, 90]])\n",
    "print(\"After append values to the end of the array:\")\n",
    "print(x)"
   ]
  },
  {
   "cell_type": "markdown",
   "id": "863ec673",
   "metadata": {},
   "source": [
    "# To create numpy array of zeros Of Any Dimension :"
   ]
  },
  {
   "cell_type": "code",
   "execution_count": 5,
   "id": "cc886f21",
   "metadata": {},
   "outputs": [
    {
     "name": "stdout",
     "output_type": "stream",
     "text": [
      "Matrix b : \n",
      " [0 0]\n",
      "\n",
      "Matrix a : \n",
      " [[0 0]\n",
      " [0 0]]\n",
      "\n",
      "Matrix c : \n",
      " [[0. 0. 0.]\n",
      " [0. 0. 0.]\n",
      " [0. 0. 0.]]\n"
     ]
    }
   ],
   "source": [
    "import numpy as np\n",
    "\n",
    "b = np.zeros(2, dtype = int)\n",
    "print(\"Matrix b : \\n\", b)\n",
    "\n",
    "a = np.zeros([2, 2], dtype = int)\n",
    "print(\"\\nMatrix a : \\n\", a)\n",
    "\n",
    "c = np.zeros([3, 3])\n",
    "print(\"\\nMatrix c : \\n\", c)"
   ]
  },
  {
   "cell_type": "markdown",
   "id": "b48327cf",
   "metadata": {},
   "source": [
    "# To create numpy array of Ones Of Any Dimension :"
   ]
  },
  {
   "cell_type": "code",
   "execution_count": null,
   "id": "0146224f",
   "metadata": {},
   "outputs": [],
   "source": [
    "import numpy as np\n",
    "\n",
    "b = np.ones(2, dtype = int)\n",
    "print(\"Matrix b : \\n\", b)\n",
    "\n",
    "a = np.ones([2, 2], dtype = int)\n",
    "print(\"\\nMatrix a : \\n\", a)\n",
    "\n",
    "c = np.ones([3, 3])\n",
    "print(\"\\nMatrix c : \\n\", c)"
   ]
  },
  {
   "cell_type": "markdown",
   "id": "e1649829",
   "metadata": {},
   "source": [
    "# To Create Identity Matrix Of Any Dimension"
   ]
  },
  {
   "cell_type": "code",
   "execution_count": 7,
   "id": "c3ededd9",
   "metadata": {},
   "outputs": [
    {
     "name": "stdout",
     "output_type": "stream",
     "text": [
      "[[1. 0. 0.]\n",
      " [0. 1. 0.]\n",
      " [0. 0. 1.]]\n",
      "[[1. 0. 0. 0.]\n",
      " [0. 1. 0. 0.]\n",
      " [0. 0. 1. 0.]]\n"
     ]
    }
   ],
   "source": [
    "import numpy as np\n",
    "x = np.eye(3)\n",
    "print(x)\n",
    "y = np.eye(3,4)\n",
    "print(y)\n"
   ]
  },
  {
   "cell_type": "markdown",
   "id": "c8bdf587",
   "metadata": {},
   "source": [
    "# To create a 5x5 Identity matrix with elements on the main diagonal equal to 1, 2, 3, 4, 5."
   ]
  },
  {
   "cell_type": "code",
   "execution_count": 8,
   "id": "86dd01da",
   "metadata": {},
   "outputs": [
    {
     "name": "stdout",
     "output_type": "stream",
     "text": [
      "[[1 0 0 0 0]\n",
      " [0 2 0 0 0]\n",
      " [0 0 3 0 0]\n",
      " [0 0 0 4 0]\n",
      " [0 0 0 0 5]]\n"
     ]
    }
   ],
   "source": [
    "import numpy as np\n",
    "x = np.diag([1, 2, 3, 4, 5])\n",
    "print(x)"
   ]
  },
  {
   "cell_type": "markdown",
   "id": "c0d2ac4f",
   "metadata": {},
   "source": [
    "# To check if any value is nan (null) in numpy array using np.isnan()"
   ]
  },
  {
   "cell_type": "code",
   "execution_count": 9,
   "id": "5e9d42e6",
   "metadata": {},
   "outputs": [
    {
     "name": "stdout",
     "output_type": "stream",
     "text": [
      "Original array\n",
      "[ 1.  0. nan  3.]\n",
      "Test element-wise for NaN:\n",
      "[False False  True False]\n"
     ]
    }
   ],
   "source": [
    "import numpy as np\n",
    "a = np.array([1, 0, np.nan, 3])\n",
    "print(\"Original array\")\n",
    "print(a)\n",
    "print(\"Test element-wise for NaN:\")\n",
    "print(np.isnan(a))"
   ]
  },
  {
   "cell_type": "markdown",
   "id": "1ec11c91",
   "metadata": {},
   "source": [
    "# Arranging List with arange function of any dimension"
   ]
  },
  {
   "cell_type": "code",
   "execution_count": 10,
   "id": "afd361f5",
   "metadata": {},
   "outputs": [
    {
     "name": "stdout",
     "output_type": "stream",
     "text": [
      "[0 1 2]\n",
      "[0. 1. 2.]\n",
      "[3 4 5 6]\n",
      "[3 5]\n",
      "[1 3]\n",
      "[[10 11 12 13]\n",
      " [14 15 16 17]\n",
      " [18 19 20 21]]\n"
     ]
    }
   ],
   "source": [
    "# \"arange of numpy array\" is similar to \"range of list\"\n",
    "\n",
    "# np.arange(starting,ending,step)\n",
    "\n",
    "print(np.arange(3))\n",
    "print(np.arange(3.0))\n",
    "print(np.arange(3,7))\n",
    "print(np.arange(3,7,2))\n",
    "print(np.arange(1,4,2))\n",
    "a = np.arange(10,22).reshape((3, 4))\n",
    "print(a)"
   ]
  },
  {
   "cell_type": "markdown",
   "id": "fa301e26",
   "metadata": {},
   "source": [
    "# Accessing Elements Of Numpy Arrays"
   ]
  },
  {
   "cell_type": "code",
   "execution_count": 3,
   "id": "65fac9a6",
   "metadata": {},
   "outputs": [
    {
     "name": "stdout",
     "output_type": "stream",
     "text": [
      "1\n",
      "2nd element on 1st row:  2\n",
      "9\n"
     ]
    }
   ],
   "source": [
    "#get element on first row, second column\n",
    "\n",
    "import numpy as np\n",
    "arr1 = np.array([1, 2, 3, 4])\n",
    "\n",
    "print(arr1[0])\n",
    "\n",
    "arr = np.array([[1,2,3,4,5], [6,7,8,9,10]])\n",
    "\n",
    "print('2nd element on 1st row: ', arr[0, 1])\n",
    "\n",
    "#three-dimensional numpy array\n",
    "a = np.array([[[1, 2, 3], [4, 5, 6]], [[1, 2, 3], [4, 9, 6]]])\n",
    "print(a[1,1,1])\n"
   ]
  },
  {
   "cell_type": "markdown",
   "id": "dd5860f1",
   "metadata": {},
   "source": [
    "# Numpy Array Slicing"
   ]
  },
  {
   "cell_type": "code",
   "execution_count": 12,
   "id": "dc3f99ca",
   "metadata": {},
   "outputs": [
    {
     "name": "stdout",
     "output_type": "stream",
     "text": [
      "[2 3 4 5]\n",
      "[5 6 7]\n",
      "[2 4]\n"
     ]
    }
   ],
   "source": [
    "#Numpy Array Slicing is same as that of list slicing that we studied earlier\n",
    "\n",
    "import numpy as np\n",
    "\n",
    "arr = np.array([1, 2, 3, 4, 5, 6, 7])\n",
    "\n",
    "print(arr[1:5])\n",
    "\n",
    "arr = np.array([1, 2, 3, 4, 5, 6, 7])\n",
    "\n",
    "print(arr[4:])\n",
    "\n",
    "arr = np.array([1, 2, 3, 4, 5, 6, 7])\n",
    "\n",
    "print(arr[1:5:2])"
   ]
  },
  {
   "cell_type": "markdown",
   "id": "faea852b",
   "metadata": {},
   "source": [
    "# Checking Data Type Of Array"
   ]
  },
  {
   "cell_type": "code",
   "execution_count": 13,
   "id": "191182f2",
   "metadata": {},
   "outputs": [
    {
     "name": "stdout",
     "output_type": "stream",
     "text": [
      "[1 2 3 4]\n",
      "int32\n"
     ]
    }
   ],
   "source": [
    "#creating an array with dataType 4 byte integer\n",
    "\n",
    "import numpy as np\n",
    "\n",
    "arr = np.array([1, 2, 3, 4], dtype='i4')\n",
    "\n",
    "print(arr)\n",
    "print(arr.dtype)"
   ]
  },
  {
   "cell_type": "markdown",
   "id": "eb665c75",
   "metadata": {},
   "source": [
    "# get shape of array by arr.shape"
   ]
  },
  {
   "cell_type": "code",
   "execution_count": 14,
   "id": "fd3f5546",
   "metadata": {},
   "outputs": [
    {
     "name": "stdout",
     "output_type": "stream",
     "text": [
      "(2, 4)\n"
     ]
    }
   ],
   "source": [
    "import numpy as np\n",
    "\n",
    "arr = np.array([[1, 2, 3, 4], [5, 6, 7, 8]])\n",
    "\n",
    "print(arr.shape)"
   ]
  },
  {
   "cell_type": "markdown",
   "id": "dec63f92",
   "metadata": {},
   "source": [
    "# Making Multi-Dimensional Array With 1D Numpy Array"
   ]
  },
  {
   "cell_type": "code",
   "execution_count": 4,
   "id": "9031c0cb",
   "metadata": {},
   "outputs": [
    {
     "name": "stdout",
     "output_type": "stream",
     "text": [
      "[[ 1  2  3]\n",
      " [ 4  5  6]\n",
      " [ 7  8  9]\n",
      " [10 11 12]]\n",
      "[[[ 1  2]\n",
      "  [ 3  4]\n",
      "  [ 5  6]]\n",
      "\n",
      " [[ 7  8]\n",
      "  [ 9 10]\n",
      "  [11 12]]]\n"
     ]
    }
   ],
   "source": [
    "# reshaping 1D to 2D array\n",
    "\n",
    "import numpy as np\n",
    "\n",
    "arr = np.array([1, 2, 3, 4, 5, 6, 7, 8, 9, 10, 11, 12])\n",
    "\n",
    "newarr = arr.reshape(4, 3)\n",
    "\n",
    "print(newarr)\n",
    "\n",
    "# reshaping from 1D to 3D\n",
    "\n",
    "arr1 = np.array([1, 2, 3, 4, 5, 6, 7, 8, 9, 10, 11, 12])\n",
    "\n",
    "newarr1 = arr1.reshape(2, 3, 2)\n",
    "\n",
    "print(newarr1)"
   ]
  },
  {
   "cell_type": "markdown",
   "id": "e179a9af",
   "metadata": {},
   "source": [
    "# Iterating 2D array"
   ]
  },
  {
   "cell_type": "code",
   "execution_count": 5,
   "id": "07bb2030",
   "metadata": {},
   "outputs": [
    {
     "name": "stdout",
     "output_type": "stream",
     "text": [
      "1\n",
      "2\n",
      "3\n",
      "4\n",
      "5\n",
      "6\n"
     ]
    }
   ],
   "source": [
    "#in above example, it is not iterating each individual element. For that, we need to use nested for loops\n",
    "import numpy as np\n",
    "\n",
    "arr = np.array([[1, 2, 3], [4, 5, 6]])\n",
    "\n",
    "for x in arr:\n",
    "    for y in x:\n",
    "        print(y)"
   ]
  },
  {
   "cell_type": "markdown",
   "id": "814fbb1b",
   "metadata": {},
   "source": [
    "# Iterating Using nditr function"
   ]
  },
  {
   "cell_type": "code",
   "execution_count": 6,
   "id": "06a8ebae",
   "metadata": {},
   "outputs": [
    {
     "name": "stdout",
     "output_type": "stream",
     "text": [
      "1\n",
      "2\n",
      "3\n",
      "4\n",
      "5\n",
      "6\n",
      "7\n",
      "8\n"
     ]
    }
   ],
   "source": [
    "import numpy as np\n",
    "\n",
    "arr = np.array([[[1, 2], [3, 4]], [[5, 6], [7, 8]]])\n",
    "\n",
    "for x in np.nditer(arr):\n",
    "    print(x)"
   ]
  },
  {
   "cell_type": "markdown",
   "id": "72c751d6",
   "metadata": {},
   "source": [
    "# Concatening Array "
   ]
  },
  {
   "cell_type": "code",
   "execution_count": 10,
   "id": "68228f8a",
   "metadata": {},
   "outputs": [
    {
     "name": "stdout",
     "output_type": "stream",
     "text": [
      "[1 2 3 4 5 6]\n",
      "[[1 2 5 6]\n",
      " [3 4 7 8]]\n"
     ]
    }
   ],
   "source": [
    "import numpy as np\n",
    "\n",
    "arr1 = np.array([1, 2, 3])\n",
    "\n",
    "arr2 = np.array([4, 5, 6])\n",
    "\n",
    "arr = np.concatenate((arr1, arr2))\n",
    "\n",
    "print(arr)\n",
    "\n",
    "# joining with axis=1\n",
    "\n",
    "arr3 = np.array([[1, 2], [3, 4]])\n",
    "\n",
    "arr4 = np.array([[5, 6], [7, 8]])\n",
    "\n",
    "arr5 = np.concatenate((arr3, arr4), axis=1)\n",
    "\n",
    "print(arr5)"
   ]
  },
  {
   "cell_type": "markdown",
   "id": "5b01edbd",
   "metadata": {},
   "source": [
    "# Joining Array Using Stacking"
   ]
  },
  {
   "cell_type": "code",
   "execution_count": 16,
   "id": "e66ca692",
   "metadata": {},
   "outputs": [
    {
     "name": "stdout",
     "output_type": "stream",
     "text": [
      "[[1 2 3]\n",
      " [4 5 6]]\n",
      "[[1 4]\n",
      " [2 5]\n",
      " [3 6]]\n",
      "\n",
      "\n",
      "[1 2 3 4 5 6]\n",
      "\n",
      "\n",
      "[[1 2 3]\n",
      " [4 5 6]]\n",
      "\n",
      "\n",
      "[[[1 4]\n",
      "  [2 5]\n",
      "  [3 6]]]\n"
     ]
    }
   ],
   "source": [
    "import numpy as np\n",
    "\n",
    "arr1 = np.array([1, 2, 3])\n",
    "\n",
    "arr2 = np.array([4, 5, 6])\n",
    "print(np.stack((arr1, arr2)))\n",
    "\n",
    "print(np.stack((arr1, arr2), axis=1))\n",
    "print(\"\\n\")\n",
    "# stacking along rows using hstack\n",
    "\n",
    "arr1 = np.array([1, 2, 3])\n",
    "\n",
    "arr2 = np.array([4, 5, 6])\n",
    "\n",
    "arr = np.hstack((arr1, arr2))\n",
    "\n",
    "print(arr)\n",
    "print(\"\\n\")\n",
    "#stacking along rows using vstack\n",
    "\n",
    "arr1 = np.array([1, 2, 3])\n",
    "\n",
    "arr2 = np.array([4, 5, 6])\n",
    "\n",
    "arr = np.vstack((arr1, arr2))\n",
    "\n",
    "print(arr)\n",
    "\n",
    "print(\"\\n\")\n",
    "## stack along the height using dstack\n",
    "\n",
    "arr1 = np.array([1, 2, 3])\n",
    "\n",
    "arr2 = np.array([4, 5, 6])\n",
    "\n",
    "arr = np.dstack((arr1, arr2))\n",
    "\n",
    "print(arr)\n"
   ]
  },
  {
   "cell_type": "markdown",
   "id": "24dd22d6",
   "metadata": {},
   "source": [
    "# Array splitting"
   ]
  },
  {
   "cell_type": "code",
   "execution_count": 18,
   "id": "5f9e51c8",
   "metadata": {},
   "outputs": [
    {
     "name": "stdout",
     "output_type": "stream",
     "text": [
      "[array([1, 2]), array([3, 4]), array([5, 6])]\n"
     ]
    }
   ],
   "source": [
    "import numpy as np\n",
    "\n",
    "arr = np.array([1, 2, 3, 4, 5, 6])\n",
    "\n",
    "newarr = np.array_split(arr, 3)\n",
    "\n",
    "print(newarr)"
   ]
  },
  {
   "cell_type": "markdown",
   "id": "7f0613a5",
   "metadata": {},
   "source": [
    "# Searching Arrays"
   ]
  },
  {
   "cell_type": "code",
   "execution_count": 21,
   "id": "dee32c54",
   "metadata": {},
   "outputs": [
    {
     "name": "stdout",
     "output_type": "stream",
     "text": [
      "(array([1, 3, 5, 7, 8, 9], dtype=int64),)\n",
      "(array([3, 8, 9], dtype=int64),)\n"
     ]
    }
   ],
   "source": [
    "import numpy as np\n",
    "\n",
    "arr = np.array([1, 2, 3, 4, 5, 6, 7, 8,4,4])\n",
    "\n",
    "x = np.where(arr%2 == 0)\n",
    "y = np.where(arr == 4)\n",
    "print(x)\n",
    "print(y)"
   ]
  },
  {
   "cell_type": "markdown",
   "id": "76106c68",
   "metadata": {},
   "source": [
    "# find index where value A specific value should be inserted"
   ]
  },
  {
   "cell_type": "code",
   "execution_count": 22,
   "id": "f8439db5",
   "metadata": {},
   "outputs": [
    {
     "name": "stdout",
     "output_type": "stream",
     "text": [
      "4\n"
     ]
    }
   ],
   "source": [
    "# find index where value 10 should be inserted\n",
    "import numpy as np\n",
    "\n",
    "arr = np.array([6, 7, 8, 9])\n",
    "\n",
    "x = np.searchsorted(arr, 10)\n",
    "\n",
    "print(x)"
   ]
  },
  {
   "cell_type": "markdown",
   "id": "31456d8c",
   "metadata": {},
   "source": [
    "# Sorting Arrays"
   ]
  },
  {
   "cell_type": "code",
   "execution_count": 23,
   "id": "e98f64a5",
   "metadata": {},
   "outputs": [
    {
     "name": "stdout",
     "output_type": "stream",
     "text": [
      "[0 1 2 3]\n"
     ]
    }
   ],
   "source": [
    "import numpy as np\n",
    "\n",
    "arr = np.array([3, 2, 0, 1])\n",
    "\n",
    "print(np.sort(arr))"
   ]
  },
  {
   "cell_type": "markdown",
   "id": "6cec2a01",
   "metadata": {},
   "source": [
    "# Basic Arithmetic Operations"
   ]
  },
  {
   "cell_type": "code",
   "execution_count": 6,
   "id": "6b6201fe",
   "metadata": {},
   "outputs": [
    {
     "name": "stdout",
     "output_type": "stream",
     "text": [
      "[1 0 2]\n",
      "[1 0 2]\n",
      "(array([3, 8, 2]), array([1, 0, 2]))\n",
      "Total Sum of both array: 10\n",
      "\n",
      "axis = 0 means sum across each indidual array\n",
      "[4 6]\n",
      "\n",
      "axis = 1 means sum across each indidual array\n",
      "[2 4 4]\n",
      "\n",
      "overall product of all elements in array1 and array2\n",
      "6\n",
      "\n",
      "axis = 1 means sum across each indidual array\n",
      "[2 3]\n",
      "\n",
      "axis = 0 means sum across each indidual array\n",
      "[1 3 2]\n"
     ]
    }
   ],
   "source": [
    "#BASIC ARITHMETIC\n",
    "\n",
    "a = np.array([10,32,12])\n",
    "b = np.array([3,4,5])\n",
    "\n",
    "print(np.mod(a,b)) # it returns remainder after dividing a by b\n",
    "# or\n",
    "print(np.remainder(a,b))\n",
    "\n",
    "\n",
    "print(np.divmod(a, b))  #it returns quotient and remainder both\n",
    "\n",
    "\n",
    "#BASIC ARITHMETIC\n",
    "#Summation\n",
    "\n",
    "\n",
    "arr1 = np.array([1, 1, 2])\n",
    "arr2 = np.array([1, 3, 2])\n",
    "\n",
    "total_sum = np.sum([arr1,arr2])             # overall sum of all elements in array1 and array2\n",
    "print(f\"Total Sum of both array: {total_sum}\")\n",
    "\n",
    "first_arr = np.sum([arr1, arr2], axis=1)    # if axis = 0 means sum across each indidual array\n",
    "second_arr = np.sum([arr1, arr2], axis=0)   # if axis =1 means adding first element of both array then second and so on\n",
    "print(\"\\naxis = 0 means sum across each indidual array\")\n",
    "print(first_arr)\n",
    "print(\"\\naxis = 1 means sum across each indidual array\")\n",
    "print(second_arr)\n",
    "\n",
    "#BASIC ARITHMETIC\n",
    "#Product\n",
    "arr1 = np.array([1, 1, 2])\n",
    "arr2 = np.array([1, 3, 1])\n",
    "\n",
    "total_prod = np.product([arr1,arr2])             # overall product of all elements in array1 and array2\n",
    "print(\"\\noverall product of all elements in array1 and array2\")\n",
    "print(total_prod)\n",
    "\n",
    "first_arr = np.product([arr1, arr2], axis=1)    # if axis = 0 means product across each indidual array\n",
    "second_arr = np.product([arr1, arr2], axis=0)   # if axis =1 means multiply first element of both array then second and so on\n",
    "print(\"\\naxis = 1 means sum across each indidual array\")\n",
    "print(first_arr)\n",
    "print(\"\\naxis = 0 means sum across each indidual array\")\n",
    "print(second_arr)\n",
    "\n",
    "\n",
    "\n"
   ]
  },
  {
   "cell_type": "markdown",
   "id": "6cd53e0f",
   "metadata": {},
   "source": [
    "# Numpy Ufunc"
   ]
  },
  {
   "cell_type": "code",
   "execution_count": 10,
   "id": "545a2075",
   "metadata": {},
   "outputs": [
    {
     "name": "stdout",
     "output_type": "stream",
     "text": [
      "Basic Arithmetic Operations:\n",
      "Addition: [5 7 9]\n",
      "Subtraction: [-3 -3 -3]\n",
      "Multiplication: [ 4 10 18]\n",
      "Division: [0.25 0.4  0.5 ]\n",
      "Power: [  1  32 729]\n",
      "\n",
      "Trigonometric Functions:\n",
      "Sine: [0.         0.70710678 1.        ]\n",
      "Cosine: [1.00000000e+00 7.07106781e-01 6.12323400e-17]\n",
      "Tangent: [0.00000000e+00 1.00000000e+00 1.63312394e+16]\n",
      "Arcsine: [0.         0.78539816 1.57079633]\n",
      "Inverse Hyperbolic Sine: [0.         0.65847895 0.88137359]\n",
      "Arccosine: [0.         0.78539816 1.57079633]\n",
      "Hyperbolic Cosine: [1.         1.32460909 2.50917848]\n",
      "Arctangent: [0.         0.78539816 1.57079633]\n",
      "\n",
      "Logarithmic and Exponential Functions:\n",
      "Exponential Values: [ 2.71828183  7.3890561  20.08553692]\n",
      "Natural Logarithm: [0.         0.69314718 1.09861229]\n",
      "Base-10 Logarithm: [0.         0.30103    0.47712125]\n",
      "Base-2 Logarithm: [0.        1.        1.5849625]\n",
      "\n",
      "Rounding and Modulus Operations:\n",
      "Floor: [ 3.  2. -5.]\n",
      "Ceil: [ 4.  3. -4.]\n",
      "Round: [ 3.  2. -5.]\n",
      "Modulus with 2: [1.14 0.5  1.3 ]\n",
      "\n",
      "Comparison Operations:\n",
      "Element-wise Equality: [False  True False]\n",
      "Element-wise Inequality: [ True False  True]\n",
      "Element-wise Greater Than: [False False  True]\n",
      "Element-wise Less Than: [ True False False]\n"
     ]
    }
   ],
   "source": [
    "import numpy as np\n",
    "\n",
    "# Define two arrays\n",
    "arr1 = np.array([1, 2, 3])\n",
    "arr2 = np.array([4, 5, 6])\n",
    "\n",
    "# Basic Arithmetic Operations\n",
    "result_add = np.add(arr1, arr2)\n",
    "result_subtract = np.subtract(arr1, arr2)\n",
    "result_multiply = np.multiply(arr1, arr2)\n",
    "result_divide = np.divide(arr1, arr2)\n",
    "result_power = np.power(arr1, arr2)\n",
    "\n",
    "# Trigonometric Functions\n",
    "angles = np.array([0, np.pi/4, np.pi/2])\n",
    "sine = np.sin(angles)\n",
    "cosine = np.cos(angles)\n",
    "tangent = np.tan(angles)\n",
    "arcsin = np.arcsin(sine)\n",
    "arcsinh = np.arcsinh(sine)\n",
    "arccos = np.arccos(cosine)\n",
    "cosh = np.cosh(angles)\n",
    "arctan = np.arctan(tangent)\n",
    "\n",
    "# Logarithmic and Exponential Functions\n",
    "values = np.array([1, 2, 3])\n",
    "exp_values = np.exp(values)\n",
    "log_values = np.log(values)\n",
    "log10_values = np.log10(values)\n",
    "log2_values = np.log2(values)\n",
    "\n",
    "# Rounding and Modulus Operations\n",
    "numbers = np.array([3.14, 2.5, -4.7])\n",
    "floor_result = np.floor(numbers)\n",
    "ceil_result = np.ceil(numbers)\n",
    "round_result = np.round(numbers)\n",
    "mod_result = np.mod(numbers, 2)\n",
    "\n",
    "# Comparison Operations\n",
    "arr1 = np.array([1, 2, 3])\n",
    "arr2 = np.array([2, 2, 2])\n",
    "equal_result = np.equal(arr1, arr2)\n",
    "not_equal_result = np.not_equal(arr1, arr2)\n",
    "greater_result = np.greater(arr1, arr2)\n",
    "less_result = np.less(arr1, arr2)\n",
    "\n",
    "# Print the results\n",
    "print(\"Basic Arithmetic Operations:\")\n",
    "print(\"Addition:\", result_add)\n",
    "print(\"Subtraction:\", result_subtract)\n",
    "print(\"Multiplication:\", result_multiply)\n",
    "print(\"Division:\", result_divide)\n",
    "print(\"Power:\", result_power)\n",
    "\n",
    "print(\"\\nTrigonometric Functions:\")\n",
    "print(\"Sine:\", sine)\n",
    "print(\"Cosine:\", cosine)\n",
    "print(\"Tangent:\", tangent)\n",
    "print(\"Arcsine:\", arcsin)\n",
    "print(\"Inverse Hyperbolic Sine:\", arcsinh)\n",
    "print(\"Arccosine:\", arccos)\n",
    "print(\"Hyperbolic Cosine:\", cosh)\n",
    "print(\"Arctangent:\", arctan)\n",
    "\n",
    "print(\"\\nLogarithmic and Exponential Functions:\")\n",
    "print(\"Exponential Values:\", exp_values)\n",
    "print(\"Natural Logarithm:\", log_values)\n",
    "print(\"Base-10 Logarithm:\", log10_values)\n",
    "print(\"Base-2 Logarithm:\", log2_values)\n",
    "\n",
    "print(\"\\nRounding and Modulus Operations:\")\n",
    "print(\"Floor:\", floor_result)\n",
    "print(\"Ceil:\", ceil_result)\n",
    "print(\"Round:\", round_result)\n",
    "print(\"Modulus with 2:\", mod_result)\n",
    "\n",
    "print(\"\\nComparison Operations:\")\n",
    "print(\"Element-wise Equality:\", equal_result)\n",
    "print(\"Element-wise Inequality:\", not_equal_result)\n",
    "print(\"Element-wise Greater Than:\", greater_result)\n",
    "print(\"Element-wise Less Than:\", less_result)\n"
   ]
  },
  {
   "cell_type": "markdown",
   "id": "4856cc1e",
   "metadata": {},
   "source": [
    "# Creating Your Own Ufunc"
   ]
  },
  {
   "cell_type": "code",
   "execution_count": 71,
   "id": "275bed9e",
   "metadata": {},
   "outputs": [
    {
     "name": "stdout",
     "output_type": "stream",
     "text": [
      "<ufunc 'myadd (vectorized)'>\n"
     ]
    }
   ],
   "source": [
    "import numpy as np\n",
    "def myadd(x, y):\n",
    "    return x+y\n",
    "myadd = np.frompyfunc(myadd, 2, 1)\n",
    "print(myadd)\n"
   ]
  },
  {
   "cell_type": "markdown",
   "id": "75bf13c5",
   "metadata": {},
   "source": [
    "# Distribution"
   ]
  },
  {
   "cell_type": "code",
   "execution_count": 72,
   "id": "42d86d2f",
   "metadata": {},
   "outputs": [
    {
     "name": "stdout",
     "output_type": "stream",
     "text": [
      "Random Numbers from Different Distributions:\n",
      "Uniform: [0.57004963 0.62610743 0.11627269 0.85272746 0.39399403 0.36412776\n",
      " 0.13126488 0.57112319 0.7546614  0.95670726]\n",
      "Normal: [-0.74628631 -1.15604896  0.61884407  0.82972844  1.08744377  1.18415029\n",
      " -0.83674035 -1.98570476  0.5935047  -0.74961648]\n",
      "Poisson: [4 1 2 2 4 0 0 3 0 5]\n",
      "Exponential: [1.00245378 0.76532981 0.09174623 0.71469141 0.22036805 0.22730746\n",
      " 1.20333128 1.44102006 0.09515901 2.14293396]\n",
      "Binomial: [4 6 5 8 4 6 7 3 6 3]\n"
     ]
    }
   ],
   "source": [
    "import numpy as np\n",
    "\n",
    "# Generate random numbers from various probability distributions\n",
    "uniform_data = np.random.uniform(0, 1, 10)  # Uniform distribution between 0 and 1\n",
    "normal_data = np.random.normal(0, 1, 10)  # Normal (Gaussian) distribution with mean 0 and standard deviation 1\n",
    "poisson_data = np.random.poisson(2, 10)  # Poisson distribution with lambda parameter 2\n",
    "exponential_data = np.random.exponential(1, 10)  # Exponential distribution with scale parameter 1\n",
    "binomial_data = np.random.binomial(10, 0.5, 10)  # Binomial distribution with 10 trials and probability of success 0.5\n",
    "\n",
    "print(\"Random Numbers from Different Distributions:\")\n",
    "print(\"Uniform:\", uniform_data)\n",
    "print(\"Normal:\", normal_data)\n",
    "print(\"Poisson:\", poisson_data)\n",
    "print(\"Exponential:\", exponential_data)\n",
    "print(\"Binomial:\", binomial_data)\n"
   ]
  },
  {
   "cell_type": "markdown",
   "id": "c552b685",
   "metadata": {},
   "source": [
    "# Set Operations"
   ]
  },
  {
   "cell_type": "code",
   "execution_count": 73,
   "id": "be6a3540",
   "metadata": {},
   "outputs": [
    {
     "name": "stdout",
     "output_type": "stream",
     "text": [
      "Union of array1 and array2: [1 2 3 4 5 6 7]\n",
      "Intersection of array1 and array2: [3 4 5]\n",
      "Elements in array1 but not in array2: [1 2]\n",
      "Elements in array2 but not in array1: [6 7]\n",
      "Symmetric difference between array1 and array2: [1 2 6 7]\n",
      "Is array1 a subset of array2: False\n",
      "Is array1 a superset of array2: False\n"
     ]
    }
   ],
   "source": [
    "import numpy as np\n",
    "\n",
    "# Create two NumPy arrays\n",
    "array1 = np.array([1, 2, 3, 4, 5])\n",
    "array2 = np.array([3, 4, 5, 6, 7])\n",
    "\n",
    "# Set Operations\n",
    "\n",
    "# Union of two arrays\n",
    "union_result = np.union1d(array1, array2)\n",
    "\n",
    "# Intersection of two arrays (Unique Elements)\n",
    "intersection_result = np.intersect1d(array1, array2)\n",
    "\n",
    "# Set difference (elements in array1 but not in array2)\n",
    "difference_result1 = np.setdiff1d(array1, array2)\n",
    "\n",
    "# Set difference (elements in array2 but not in array1)\n",
    "difference_result2 = np.setdiff1d(array2, array1)\n",
    "\n",
    "# Symmetric difference (elements that are in either of the arrays, but not in both)\n",
    "symmetric_difference_result = np.setxor1d(array1, array2)\n",
    "\n",
    "# Check if array1 is a subset of array2\n",
    "is_subset = np.all(np.isin(array1, array2))\n",
    "\n",
    "# Check if array1 is a superset of array2\n",
    "is_superset = np.all(np.isin(array1, array2))\n",
    "\n",
    "# Print the results\n",
    "print(\"Union of array1 and array2:\", union_result)\n",
    "print(\"Intersection of array1 and array2:\", intersection_result)\n",
    "print(\"Elements in array1 but not in array2:\", difference_result1)\n",
    "print(\"Elements in array2 but not in array1:\", difference_result2)\n",
    "print(\"Symmetric difference between array1 and array2:\", symmetric_difference_result)\n",
    "print(\"Is array1 a subset of array2:\", is_subset)\n",
    "print(\"Is array1 a superset of array2:\", is_superset)\n"
   ]
  },
  {
   "cell_type": "markdown",
   "id": "b6606cbc",
   "metadata": {},
   "source": [
    "# Statistical Operation"
   ]
  },
  {
   "cell_type": "code",
   "execution_count": 23,
   "id": "1d21bba5",
   "metadata": {},
   "outputs": [
    {
     "name": "stdout",
     "output_type": "stream",
     "text": [
      "Sample Data:\n",
      "[78  3 17 41 52 96 45 72  5 47 37 87 17 32 25 49 44 10 61 88]\n",
      "\n",
      "Measures of Central Tendency:\n",
      "Mean: 45.3\n",
      "Median: 44.5\n",
      "Mode: [78, 78, 78, 78, 78, 78, 78, 78, 78, 78, 78, 78, 78, 78, 78, 78, 78, 78, 78, 78]\n",
      "\n",
      "Measures of Dispersion:\n",
      "Variance: 758.11\n",
      "Standard Deviation: 27.53379741336091\n",
      "\n",
      "Percentiles and Quartiles:\n",
      "Percentiles (25th, 50th, 75th): [23.   44.5  63.75]\n",
      "\n",
      "Correlation and Covariance:\n",
      "Correlation Matrix:\n",
      "[[ 1.         -0.08337241]\n",
      " [-0.08337241  1.        ]]\n",
      "Covariance Matrix:\n",
      "[[698.93333333 -69.42222222]\n",
      " [-69.42222222 992.01111111]]\n"
     ]
    }
   ],
   "source": [
    "import numpy as np\n",
    "\n",
    "# Generating sample data\n",
    "data = np.random.randint(0, 100, 20)  # Generate an array of 20 random integers between 0 and 100\n",
    "print(\"Sample Data:\")\n",
    "print(data)\n",
    "\n",
    "# Measures of Central Tendency\n",
    "mean = np.mean(data)\n",
    "median = np.median(data)\n",
    "\n",
    "# Calculate the mode (returns a list because there can be multiple modes)\n",
    "mode = np.ndarray.tolist(np.random.choice(np.random.choice(data, size=1), data.size))\n",
    "\n",
    "print(\"\\nMeasures of Central Tendency:\")\n",
    "print(f\"Mean: {mean}\")\n",
    "print(f\"Median: {median}\")\n",
    "print(f\"Mode: {mode}\")\n",
    "\n",
    "# Measures of Dispersion\n",
    "variance = np.var(data)\n",
    "std_dev = np.std(data)\n",
    "\n",
    "print(\"\\nMeasures of Dispersion:\")\n",
    "print(f\"Variance: {variance}\")\n",
    "print(f\"Standard Deviation: {std_dev}\")\n",
    "\n",
    "# Percentiles == Quartiles\n",
    "percentiles = np.percentile(data,[25, 50, 75])\n",
    "\n",
    "\n",
    "print(\"\\nPercentiles and Quartiles:\")\n",
    "print(f\"Percentiles (25th, 50th, 75th): {percentiles}\")\n",
    "\n",
    "\n",
    "# Correlation and Covariance\n",
    "data1 = np.random.randint(0, 100, 10)\n",
    "data2 = np.random.randint(0, 100, 10)\n",
    "\n",
    "correlation_matrix = np.corrcoef(data1, data2)\n",
    "covariance_matrix = np.cov(data1, data2)\n",
    "\n",
    "print(\"\\nCorrelation and Covariance:\")\n",
    "print(f\"Correlation Matrix:\")\n",
    "print(correlation_matrix)\n",
    "print(f\"Covariance Matrix:\")\n",
    "print(covariance_matrix)\n"
   ]
  },
  {
   "cell_type": "markdown",
   "id": "05e72990",
   "metadata": {},
   "source": [
    "# LCM / GCD  "
   ]
  },
  {
   "cell_type": "code",
   "execution_count": 39,
   "id": "e915e914",
   "metadata": {},
   "outputs": [
    {
     "name": "stdout",
     "output_type": "stream",
     "text": [
      "12\n",
      "------------------------------\n",
      "18\n",
      "\n",
      " 3\n",
      "\n",
      "------------------------------\n",
      "4\n"
     ]
    }
   ],
   "source": [
    "#BASIC ARITHMETIC\n",
    "# lCM (least common multiple)\n",
    "import numpy as np\n",
    "\n",
    "num1 = 4\n",
    "num2 = 6\n",
    "\n",
    "x = np.lcm(num1, num2)\n",
    "\n",
    "print(x)\n",
    "\n",
    "print(\"------------------------------\")\n",
    "\n",
    "# LCM of array\n",
    "\n",
    "arr = np.array([3, 6, 9])\n",
    "\n",
    "x = np.lcm.reduce(arr)\n",
    "\n",
    "print(x)\n",
    "\n",
    "# Find GCD(greatest common divisor) or HCF(Highest common factor) using numpy arrays\n",
    "num1 = 6\n",
    "num2 = 9\n",
    "\n",
    "x = np.gcd(num1, num2)\n",
    "\n",
    "print(\"\\n\",x)\n",
    "\n",
    "print(\"\\n------------------------------\")\n",
    "\n",
    "import numpy as np\n",
    "\n",
    "arr = np.array([20, 8, 32, 36, 16])\n",
    "\n",
    "x = np.gcd.reduce(arr)\n",
    "\n",
    "print(x)"
   ]
  },
  {
   "cell_type": "markdown",
   "id": "19b174f3",
   "metadata": {},
   "source": [
    "# Linear Algebra"
   ]
  },
  {
   "cell_type": "code",
   "execution_count": 51,
   "id": "c6e7269a",
   "metadata": {},
   "outputs": [
    {
     "name": "stdout",
     "output_type": "stream",
     "text": [
      "Dot product of p and q:\n",
      "[[1 2]\n",
      " [3 4]]\n",
      "Transpose of arr1:\n",
      "[[1 4]\n",
      " [2 5]\n",
      " [3 6]]\n",
      "Determinant of a:\n",
      "1.0\n",
      "\n",
      "Inverse oF Matrix A\n",
      "[[ 0.17647059 -0.00326797 -0.02287582]\n",
      " [ 0.05882353 -0.13071895  0.08496732]\n",
      " [-0.11764706  0.1503268   0.05228758]]\n"
     ]
    }
   ],
   "source": [
    "import numpy as np\n",
    "\n",
    "# Define matrices p and q\n",
    "p = np.array([[1, 0], [0, 1]])\n",
    "q = np.array([[1, 2], [3, 4]])\n",
    "\n",
    "# Compute the dot product of p and q\n",
    "result1 = np.dot(p, q)\n",
    "print(\"Dot product of p and q:\")\n",
    "print(result1)\n",
    "\n",
    "# Compute the transpose of a matrix\n",
    "arr1 = np.array([[1, 2, 3], [4, 5, 6]])\n",
    "arr1_transpose = arr1.T\n",
    "print(\"Transpose of arr1:\")\n",
    "print(arr1_transpose)\n",
    "\n",
    "# Compute the determinant of a square matrix\n",
    "a = np.array([[1, 1], [1, 2]])\n",
    "determinant = np.linalg.det(a)\n",
    "print(\"Determinant of a:\")\n",
    "print(determinant)\n",
    "\n",
    "A = np.array([[6, 1, 1],\n",
    "              [4, -2, 5],\n",
    "              [2, 8, 7]])\n",
    "\n",
    "# Calculating the inverse of the matrix\n",
    "print(\"\\nInverse oF Matrix A\")\n",
    "print(np.linalg.inv(A))\n"
   ]
  },
  {
   "cell_type": "markdown",
   "id": "ac92e028",
   "metadata": {},
   "source": [
    "# Basic Tasks"
   ]
  },
  {
   "cell_type": "code",
   "execution_count": 8,
   "id": "385e0069",
   "metadata": {},
   "outputs": [
    {
     "name": "stdout",
     "output_type": "stream",
     "text": [
      "\n",
      "Q1: Solution\n",
      "[20 22 24 26 28 30 32 34 36 38 40 42 44 46 48]\n",
      "\n",
      "Q2: Solution\n",
      "\n",
      "Resulting Matrix after Multiplication:\n",
      "[[ 80.  96. 112.]\n",
      " [128. 144. 160.]\n",
      " [176. 192. 208.]]\n",
      "\n",
      "Q3: Solution\n",
      "\n",
      "Random Matrix:\n",
      "[[ 2  2  5  5]\n",
      " [ 2  5 10 10]\n",
      " [10  2 10  9]\n",
      " [ 9  5  5  5]]\n",
      "\n",
      "Result Matrix after multiplying with the identity matrix:\n",
      "[[ 2.  2.  5.  5.]\n",
      " [ 2.  5. 10. 10.]\n",
      " [10.  2. 10.  9.]\n",
      " [ 9.  5.  5.  5.]]\n",
      "\n",
      "Matrix with Odd Numbers:\n",
      "[[ 1  3  5  7]\n",
      " [11 13 15 17]\n",
      " [19 21 23 25]\n",
      " [27 29 31 33]]\n",
      "\n",
      "Final Result after Adding the Matrices:\n",
      "[[ 3.  5. 10. 12.]\n",
      " [13. 18. 25. 27.]\n",
      " [29. 23. 33. 34.]\n",
      " [36. 34. 36. 38.]]\n",
      "\n",
      "Q4: Solution\n",
      "\n",
      "Sorted Data:\n",
      "[(b'Bob', 175.5,  9) (b'Alice', 160. , 10) (b'David', 165. , 10)\n",
      " (b'Charlie', 150.5, 11)]\n",
      "\n",
      "Q5: Solution\n",
      "1\n",
      "3\n",
      "5\n",
      "7\n",
      "9\n",
      "11\n",
      "13\n",
      "15\n",
      "17\n"
     ]
    }
   ],
   "source": [
    "import numpy as np\n",
    "print(\"\\nQ1: Solution\")\n",
    "#Q1: Create a numpy array of even integers from 20 to 48\n",
    "even_numbers = np.arange(20, 50, 2)\n",
    "print(even_numbers)\n",
    "\n",
    "print(\"\\nQ2: Solution\")\n",
    "# Q2:Create a 3x3 matrix with even numbers, multiply by 4, and then multiply by the identity matrix\n",
    "even_matrix = np.array([[20, 24, 28],\n",
    "                       [32, 36, 40],\n",
    "                       [44, 48, 52]])\n",
    "\n",
    "result_matrix = even_matrix * 4\n",
    "identity_matrix = np.eye(3)\n",
    "final_result = np.dot(result_matrix, identity_matrix)\n",
    "\n",
    "# Print the final result\n",
    "print(\"\\nResulting Matrix after Multiplication:\")\n",
    "print(final_result)\n",
    "\n",
    "print(\"\\nQ3: Solution\")\n",
    "# Q3:Generate a 4x4 matrix with random numbers (2, 5, 9, 10), multiply by identity, and add to odd matrix\n",
    "random_matrix = np.random.choice([2, 5, 9, 10], size=(4, 4))\n",
    "print(\"\\nRandom Matrix:\")\n",
    "print(random_matrix)\n",
    "\n",
    "identity_matrix = np.eye(4)\n",
    "result_matrix = np.dot(random_matrix, identity_matrix)\n",
    "print(\"\\nResult Matrix after multiplying with the identity matrix:\")\n",
    "print(result_matrix)\n",
    "\n",
    "odd_matrix = np.array([[1, 3, 5, 7],\n",
    "                       [11, 13, 15, 17],\n",
    "                       [19, 21, 23, 25],\n",
    "                       [27, 29, 31, 33]])\n",
    "print(\"\\nMatrix with Odd Numbers:\")\n",
    "print(odd_matrix)\n",
    "\n",
    "final_matrix = result_matrix + odd_matrix\n",
    "print(\"\\nFinal Result after Adding the Matrices:\")\n",
    "print(final_matrix)\n",
    "\n",
    "print(\"\\nQ4: Solution\")\n",
    "# Q:3 Create a structured array and sort by class, then height if classes are equal\n",
    "dtype = [('name', 'S20'), ('height', float), ('class', int)]\n",
    "data = np.array([('Alice', 160.0, 10),\n",
    "                 ('Bob', 175.5, 9),\n",
    "                 ('Charlie', 150.5, 11),\n",
    "                 ('David', 165.0, 10)],\n",
    "                dtype=dtype)\n",
    "\n",
    "sorted_data = np.sort(data, order=['class', 'height'])\n",
    "\n",
    "print(\"\\nSorted Data:\")\n",
    "print(sorted_data)\n",
    "\n",
    "print(\"\\nQ5: Solution\")\n",
    "# Q:Create a multi-dimensional array of 3 rows and 3 columns having odd numbers from 1 to 19 including 1 and excluding 19. \n",
    "# After that, iterate over this array to print all elements\n",
    "\n",
    "marray=np.arange(1,19,2).reshape(3,3)\n",
    "for x in np.nditer(marray):\n",
    "    print(x)"
   ]
  },
  {
   "cell_type": "markdown",
   "id": "e8c7b71e",
   "metadata": {},
   "source": [
    "# Quiz Question Practice"
   ]
  },
  {
   "cell_type": "code",
   "execution_count": 45,
   "id": "1ca566c8",
   "metadata": {},
   "outputs": [
    {
     "data": {
      "image/png": "[encoded data removed]",
      "text/plain": [
       "<Figure size 640x480 with 1 Axes>"
      ]
     },
     "metadata": {},
     "output_type": "display_data"
    }
   ],
   "source": [
    "# Question:\n",
    "#     Suppose you have completed your Bachelors degree and got your dream job. Your first client is from pharma Industry Abott.\n",
    "#     The Manager wants you to make a prediction application that will help out the Industry to decide the production of drugs \n",
    "#     for coming 10 days based upon current day sales. But the dataset provided by them is unassembled as it is taken \n",
    "#     from all regions of Pakistan and is unlabeled. You need to compile and sort the data due to its large volume for\n",
    "#     optimization in vectors and first of all combine all elements of arrays independently and take commutative sum of\n",
    "#     combined vectors. Based upon the requirements specification you need to make universal function \n",
    "#     and return that preprocessed data in radian. and visualize the data\n",
    "# so, that it's easy for client to see analytics of sales and make decision.\n",
    "\n",
    "import pandas as pd\n",
    "import numpy as np\n",
    "import matplotlib.pyplot as plt\n",
    "data=pd.read_csv(\"sales data.csv\")\n",
    "df=pd.DataFrame(data)\n",
    "df=df.sort_values(by='Sales')\n",
    "combinedValues=df[\"Sales\"]\n",
    "commulativesum=np.cumsum(combinedValues)\n",
    "radianValues=np.radians(commulativesum)\n",
    "plt.xlabel(\"Days\")\n",
    "plt.ylabel(\"Sales In Radians\")\n",
    "plt.plot(df['Days'],radianValues)\n",
    "plt.show()\n",
    "df2=pd.DataFrame(df['Days'])\n",
    "df2[\"Sales In Radians\"]=radianValues\n",
    "# df2.to_csv(\"fdata.csv\",index=False"
   ]
  },
  {
   "cell_type": "code",
   "execution_count": 26,
   "id": "a6e7d475",
   "metadata": {},
   "outputs": [
    {
     "name": "stdout",
     "output_type": "stream",
     "text": [
      "Total Revenue:  28865\n",
      "Product That Have Sold Maximum Time is E Sales: 2421\n",
      "Highest Revenue Date:  5\n"
     ]
    },
    {
     "data": {
      "image/png": "[encoded data removed]",
      "text/plain": [
       "<Figure size 640x480 with 1 Axes>"
      ]
     },
     "metadata": {},
     "output_type": "display_data"
    },
    {
     "data": {
      "text/plain": [
       "Product\n",
       "A    132.312500\n",
       "B     19.853659\n",
       "C      1.811966\n",
       "D     66.524845\n",
       "E      0.142090\n",
       "dtype: float64"
      ]
     },
     "execution_count": 26,
     "metadata": {},
     "output_type": "execute_result"
    }
   ],
   "source": [
    "# You are tasked with analyzing a CSV file named \"shop.csv,\"\n",
    "# which contains sales data for a company over a period of time. \n",
    "# The CSV file has the following columns: \"Date,\" \"Product,\" \"Units Sold,\" and \"Revenue.\"\n",
    "# Your goal is to use NumPy to perform various data analysis tasks on this dataset.\n",
    "# Question:\n",
    "\n",
    "# Load the \"sales_data.csv\" CSV file into a NumPy array and perform the following tasks:\n",
    "# a. Calculate the total revenue generated by the company.\n",
    "# b. Find the maximum number of units sold and the product associated with it.\n",
    "# c. Determine the average revenue per product.\n",
    "# d. Identify the date with the highest revenue and the corresponding revenue value.\n",
    "# Ensure that your code is well-documented and efficient. \n",
    "# Please provide visualize result as well\n",
    "import pandas as pd\n",
    "import numpy as np\n",
    "import matplotlib.pyplot as plt\n",
    "\n",
    "# Solution\n",
    "data = pd.read_csv(\"shop.csv\")\n",
    "df=pd.DataFrame(data)\n",
    "\n",
    "# a) Total revenue calculation\n",
    "revenueArr=df[\"Revenue\"].to_numpy()\n",
    "revenueSum=revenueArr.sum()\n",
    "print(\"Total Revenue: \",revenueSum)\n",
    "\n",
    "# b) maximum number of units sold and product associtied with it\n",
    "units_soldArr=df[\"Units Sold\"].to_numpy()\n",
    "maxSoldUnitQuantity=units_soldArr.max()\n",
    "maxSoldUnitInd=df[df[\"Units Sold\"]==maxSoldUnitQuantity].index.item()\n",
    "prodArr=df[\"Product\"].to_numpy()\n",
    "maxRevenueProductName=prodArr[maxSoldUnitInd]\n",
    "print(f\"Product That Have Sold Maximum Time is {maxRevenueProductName} Sales: {maxSoldUnitQuantity}\")\n",
    "\n",
    "# c) The average revenue per product.\n",
    "average_revenue_per_product = df.groupby('Product')['Revenue'].sum() / df.groupby('Product')['Units Sold'].sum()\n",
    "\n",
    "# d. Identify the date with the highest revenue and the corresponding revenue value.\n",
    "date=df[\"Date\"].to_numpy()\n",
    "highestRevDate=date[maxSoldUnitInd]\n",
    "print(\"Highest Revenue Date: \",highestRevDate)\n",
    "\n",
    "# plotting\n",
    "plt.xlabel(\"Product\")\n",
    "plt.xlabel(\"Revenue\")\n",
    "plt.bar(prodArr,revenueArr);\n",
    "plt.show()\n",
    "\n",
    "average_revenue_per_product\n"
   ]
  }
 ],
 "metadata": {
  "kernelspec": {
   "display_name": "Python 3 (ipykernel)",
   "language": "python",
   "name": "python3"
  },
  "language_info": {
   "codemirror_mode": {
    "name": "ipython",
    "version": 3
   },
   "file_extension": ".py",
   "mimetype": "text/x-python",
   "name": "python",
   "nbconvert_exporter": "python",
   "pygments_lexer": "ipython3",
   "version": "3.11.4"
  }
 },
 "nbformat": 4,
 "nbformat_minor": 5
}
